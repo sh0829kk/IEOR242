{
 "cells": [
  {
   "cell_type": "code",
   "execution_count": 109,
   "metadata": {},
   "outputs": [],
   "source": [
    "import pandas as pd\n",
    "import numpy as np\n",
    "import statsmodels.formula.api as smf\n",
    "from sklearn.metrics import mean_absolute_error, mean_squared_error, r2_score"
   ]
  },
  {
   "cell_type": "code",
   "execution_count": 8,
   "metadata": {},
   "outputs": [],
   "source": [
    "data = pd.read_csv('newdata.csv')"
   ]
  },
  {
   "cell_type": "code",
   "execution_count": 9,
   "metadata": {},
   "outputs": [
    {
     "data": {
      "text/html": [
       "<div>\n",
       "<style scoped>\n",
       "    .dataframe tbody tr th:only-of-type {\n",
       "        vertical-align: middle;\n",
       "    }\n",
       "\n",
       "    .dataframe tbody tr th {\n",
       "        vertical-align: top;\n",
       "    }\n",
       "\n",
       "    .dataframe thead th {\n",
       "        text-align: right;\n",
       "    }\n",
       "</style>\n",
       "<table border=\"1\" class=\"dataframe\">\n",
       "  <thead>\n",
       "    <tr style=\"text-align: right;\">\n",
       "      <th></th>\n",
       "      <th>Unnamed: 0</th>\n",
       "      <th>Customer</th>\n",
       "      <th>Country</th>\n",
       "      <th>State Code</th>\n",
       "      <th>Claim Amount</th>\n",
       "      <th>Income</th>\n",
       "      <th>Monthly Premium Auto</th>\n",
       "      <th>Months Since Last Claim</th>\n",
       "      <th>Months Since Policy Inception</th>\n",
       "      <th>Number of Open Complaints</th>\n",
       "      <th>...</th>\n",
       "      <th>Sales Channel_Web</th>\n",
       "      <th>Vehicle Class_Four-Door Car</th>\n",
       "      <th>Vehicle Class_Luxury Car</th>\n",
       "      <th>Vehicle Class_Luxury SUV</th>\n",
       "      <th>Vehicle Class_SUV</th>\n",
       "      <th>Vehicle Class_Sports Car</th>\n",
       "      <th>Vehicle Class_Two-Door Car</th>\n",
       "      <th>Vehicle Size_Large</th>\n",
       "      <th>Vehicle Size_Medsize</th>\n",
       "      <th>Vehicle Size_Small</th>\n",
       "    </tr>\n",
       "  </thead>\n",
       "  <tbody>\n",
       "    <tr>\n",
       "      <th>0</th>\n",
       "      <td>0</td>\n",
       "      <td>BU79786</td>\n",
       "      <td>US</td>\n",
       "      <td>KS</td>\n",
       "      <td>276.351928</td>\n",
       "      <td>56274</td>\n",
       "      <td>69</td>\n",
       "      <td>32</td>\n",
       "      <td>5</td>\n",
       "      <td>0</td>\n",
       "      <td>...</td>\n",
       "      <td>0</td>\n",
       "      <td>0</td>\n",
       "      <td>0</td>\n",
       "      <td>0</td>\n",
       "      <td>0</td>\n",
       "      <td>0</td>\n",
       "      <td>1</td>\n",
       "      <td>0</td>\n",
       "      <td>1</td>\n",
       "      <td>0</td>\n",
       "    </tr>\n",
       "    <tr>\n",
       "      <th>1</th>\n",
       "      <td>1</td>\n",
       "      <td>HB64268</td>\n",
       "      <td>US</td>\n",
       "      <td>KS</td>\n",
       "      <td>281.369258</td>\n",
       "      <td>43836</td>\n",
       "      <td>73</td>\n",
       "      <td>12</td>\n",
       "      <td>44</td>\n",
       "      <td>0</td>\n",
       "      <td>...</td>\n",
       "      <td>0</td>\n",
       "      <td>1</td>\n",
       "      <td>0</td>\n",
       "      <td>0</td>\n",
       "      <td>0</td>\n",
       "      <td>0</td>\n",
       "      <td>0</td>\n",
       "      <td>0</td>\n",
       "      <td>1</td>\n",
       "      <td>0</td>\n",
       "    </tr>\n",
       "    <tr>\n",
       "      <th>2</th>\n",
       "      <td>2</td>\n",
       "      <td>SV62436</td>\n",
       "      <td>US</td>\n",
       "      <td>KS</td>\n",
       "      <td>304.179156</td>\n",
       "      <td>13789</td>\n",
       "      <td>79</td>\n",
       "      <td>8</td>\n",
       "      <td>49</td>\n",
       "      <td>0</td>\n",
       "      <td>...</td>\n",
       "      <td>0</td>\n",
       "      <td>1</td>\n",
       "      <td>0</td>\n",
       "      <td>0</td>\n",
       "      <td>0</td>\n",
       "      <td>0</td>\n",
       "      <td>0</td>\n",
       "      <td>0</td>\n",
       "      <td>1</td>\n",
       "      <td>0</td>\n",
       "    </tr>\n",
       "    <tr>\n",
       "      <th>3</th>\n",
       "      <td>3</td>\n",
       "      <td>HO30839</td>\n",
       "      <td>US</td>\n",
       "      <td>KS</td>\n",
       "      <td>534.691658</td>\n",
       "      <td>10511</td>\n",
       "      <td>139</td>\n",
       "      <td>33</td>\n",
       "      <td>64</td>\n",
       "      <td>0</td>\n",
       "      <td>...</td>\n",
       "      <td>0</td>\n",
       "      <td>0</td>\n",
       "      <td>0</td>\n",
       "      <td>0</td>\n",
       "      <td>1</td>\n",
       "      <td>0</td>\n",
       "      <td>0</td>\n",
       "      <td>0</td>\n",
       "      <td>1</td>\n",
       "      <td>0</td>\n",
       "    </tr>\n",
       "    <tr>\n",
       "      <th>4</th>\n",
       "      <td>4</td>\n",
       "      <td>AO98601</td>\n",
       "      <td>US</td>\n",
       "      <td>KS</td>\n",
       "      <td>501.888523</td>\n",
       "      <td>54500</td>\n",
       "      <td>63</td>\n",
       "      <td>28</td>\n",
       "      <td>17</td>\n",
       "      <td>0</td>\n",
       "      <td>...</td>\n",
       "      <td>0</td>\n",
       "      <td>0</td>\n",
       "      <td>0</td>\n",
       "      <td>0</td>\n",
       "      <td>0</td>\n",
       "      <td>0</td>\n",
       "      <td>1</td>\n",
       "      <td>0</td>\n",
       "      <td>0</td>\n",
       "      <td>1</td>\n",
       "    </tr>\n",
       "  </tbody>\n",
       "</table>\n",
       "<p>5 rows × 72 columns</p>\n",
       "</div>"
      ],
      "text/plain": [
       "   Unnamed: 0 Customer Country State Code  Claim Amount  Income  \\\n",
       "0           0  BU79786      US         KS    276.351928   56274   \n",
       "1           1  HB64268      US         KS    281.369258   43836   \n",
       "2           2  SV62436      US         KS    304.179156   13789   \n",
       "3           3  HO30839      US         KS    534.691658   10511   \n",
       "4           4  AO98601      US         KS    501.888523   54500   \n",
       "\n",
       "   Monthly Premium Auto  Months Since Last Claim  \\\n",
       "0                    69                       32   \n",
       "1                    73                       12   \n",
       "2                    79                        8   \n",
       "3                   139                       33   \n",
       "4                    63                       28   \n",
       "\n",
       "   Months Since Policy Inception  Number of Open Complaints  ...  \\\n",
       "0                              5                          0  ...   \n",
       "1                             44                          0  ...   \n",
       "2                             49                          0  ...   \n",
       "3                             64                          0  ...   \n",
       "4                             17                          0  ...   \n",
       "\n",
       "   Sales Channel_Web  Vehicle Class_Four-Door Car  Vehicle Class_Luxury Car  \\\n",
       "0                  0                            0                         0   \n",
       "1                  0                            1                         0   \n",
       "2                  0                            1                         0   \n",
       "3                  0                            0                         0   \n",
       "4                  0                            0                         0   \n",
       "\n",
       "   Vehicle Class_Luxury SUV  Vehicle Class_SUV  Vehicle Class_Sports Car  \\\n",
       "0                         0                  0                         0   \n",
       "1                         0                  0                         0   \n",
       "2                         0                  0                         0   \n",
       "3                         0                  1                         0   \n",
       "4                         0                  0                         0   \n",
       "\n",
       "   Vehicle Class_Two-Door Car  Vehicle Size_Large  Vehicle Size_Medsize  \\\n",
       "0                           1                   0                     1   \n",
       "1                           0                   0                     1   \n",
       "2                           0                   0                     1   \n",
       "3                           0                   0                     1   \n",
       "4                           1                   0                     0   \n",
       "\n",
       "   Vehicle Size_Small  \n",
       "0                   0  \n",
       "1                   0  \n",
       "2                   0  \n",
       "3                   0  \n",
       "4                   1  \n",
       "\n",
       "[5 rows x 72 columns]"
      ]
     },
     "execution_count": 9,
     "metadata": {},
     "output_type": "execute_result"
    }
   ],
   "source": [
    "data.head()"
   ]
  },
  {
   "cell_type": "code",
   "execution_count": 11,
   "metadata": {},
   "outputs": [],
   "source": [
    "data = data.drop(['Unnamed: 0','Customer','Country','State Code'], axis=1)"
   ]
  },
  {
   "cell_type": "code",
   "execution_count": 12,
   "metadata": {},
   "outputs": [
    {
     "data": {
      "text/plain": [
       "Index(['Claim Amount', 'Income', 'Monthly Premium Auto',\n",
       "       'Months Since Last Claim', 'Months Since Policy Inception',\n",
       "       'Number of Open Complaints', 'Number of Policies', 'Total Claim Amount',\n",
       "       'CPI', 'GDP', 'Total_Fatalities_2011', 'State_Iowa', 'State_Kansas',\n",
       "       'State_Missouri', 'State_Nebraska', 'State_Oklahoma', 'Response_No',\n",
       "       'Response_Yes', 'Coverage_Basic', 'Coverage_Extended',\n",
       "       'Coverage_Premium', 'Education_Bachelor', 'Education_College',\n",
       "       'Education_Doctor', 'Education_High School or Below',\n",
       "       'Education_Master', 'EmploymentStatus_Disabled',\n",
       "       'EmploymentStatus_Employed', 'EmploymentStatus_Medical Leave',\n",
       "       'EmploymentStatus_Retired', 'EmploymentStatus_Unemployed', 'Gender_F',\n",
       "       'Gender_M', 'Location Code_Rural', 'Location Code_Suburban',\n",
       "       'Location Code_Urban', 'Marital Status_Divorced',\n",
       "       'Marital Status_Married', 'Marital Status_Single',\n",
       "       'Policy Type_Corporate Auto', 'Policy Type_Personal Auto',\n",
       "       'Policy Type_Special Auto', 'Policy_Corporate L1',\n",
       "       'Policy_Corporate L2', 'Policy_Corporate L3', 'Policy_Personal L1',\n",
       "       'Policy_Personal L2', 'Policy_Personal L3', 'Policy_Special L1',\n",
       "       'Policy_Special L2', 'Policy_Special L3', 'Claim Reason_Collision',\n",
       "       'Claim Reason_Hail', 'Claim Reason_Other', 'Claim Reason_Scratch/Dent',\n",
       "       'Sales Channel_Agent', 'Sales Channel_Branch',\n",
       "       'Sales Channel_Call Center', 'Sales Channel_Web',\n",
       "       'Vehicle Class_Four-Door Car', 'Vehicle Class_Luxury Car',\n",
       "       'Vehicle Class_Luxury SUV', 'Vehicle Class_SUV',\n",
       "       'Vehicle Class_Sports Car', 'Vehicle Class_Two-Door Car',\n",
       "       'Vehicle Size_Large', 'Vehicle Size_Medsize', 'Vehicle Size_Small'],\n",
       "      dtype='object')"
      ]
     },
     "execution_count": 12,
     "metadata": {},
     "output_type": "execute_result"
    }
   ],
   "source": [
    "data.columns"
   ]
  },
  {
   "cell_type": "code",
   "execution_count": 13,
   "metadata": {},
   "outputs": [],
   "source": [
    "train, test, val = np.split(data.sample(frac=1), [int(.6*len(data)), int(.8*len(data))])"
   ]
  },
  {
   "cell_type": "code",
   "execution_count": 14,
   "metadata": {},
   "outputs": [
    {
     "data": {
      "text/plain": [
       "((5480, 68), (1827, 68), (1827, 68))"
      ]
     },
     "execution_count": 14,
     "metadata": {},
     "output_type": "execute_result"
    }
   ],
   "source": [
    "train.shape, test.shape, val.shape"
   ]
  },
  {
   "cell_type": "code",
   "execution_count": 21,
   "metadata": {},
   "outputs": [
    {
     "data": {
      "text/plain": [
       "Index(['Claim Amount', 'Income', 'Monthly Premium Auto',\n",
       "       'Months Since Last Claim', 'Months Since Policy Inception',\n",
       "       'Number of Open Complaints', 'Number of Policies', 'Total Claim Amount',\n",
       "       'CPI', 'GDP', 'Total_Fatalities_2011', 'State_Iowa', 'State_Kansas',\n",
       "       'State_Missouri', 'State_Nebraska', 'State_Oklahoma', 'Response_No',\n",
       "       'Response_Yes', 'Coverage_Basic', 'Coverage_Extended',\n",
       "       'Coverage_Premium', 'Education_Bachelor', 'Education_College',\n",
       "       'Education_Doctor', 'Education_High School or Below',\n",
       "       'Education_Master', 'EmploymentStatus_Disabled',\n",
       "       'EmploymentStatus_Employed', 'EmploymentStatus_Medical Leave',\n",
       "       'EmploymentStatus_Retired', 'EmploymentStatus_Unemployed', 'Gender_F',\n",
       "       'Gender_M', 'Location Code_Rural', 'Location Code_Suburban',\n",
       "       'Location Code_Urban', 'Marital Status_Divorced',\n",
       "       'Marital Status_Married', 'Marital Status_Single',\n",
       "       'Policy Type_Corporate Auto', 'Policy Type_Personal Auto',\n",
       "       'Policy Type_Special Auto', 'Policy_Corporate L1',\n",
       "       'Policy_Corporate L2', 'Policy_Corporate L3', 'Policy_Personal L1',\n",
       "       'Policy_Personal L2', 'Policy_Personal L3', 'Policy_Special L1',\n",
       "       'Policy_Special L2', 'Policy_Special L3', 'Claim Reason_Collision',\n",
       "       'Claim Reason_Hail', 'Claim Reason_Other', 'Claim Reason_Scratch/Dent',\n",
       "       'Sales Channel_Agent', 'Sales Channel_Branch',\n",
       "       'Sales Channel_Call Center', 'Sales Channel_Web',\n",
       "       'Vehicle Class_Four-Door Car', 'Vehicle Class_Luxury Car',\n",
       "       'Vehicle Class_Luxury SUV', 'Vehicle Class_SUV',\n",
       "       'Vehicle Class_Sports Car', 'Vehicle Class_Two-Door Car',\n",
       "       'Vehicle Size_Large', 'Vehicle Size_Medsize', 'Vehicle Size_Small'],\n",
       "      dtype='object')"
      ]
     },
     "execution_count": 21,
     "metadata": {},
     "output_type": "execute_result"
    }
   ],
   "source": [
    "data.columns[0:]"
   ]
  },
  {
   "cell_type": "code",
   "execution_count": 22,
   "metadata": {},
   "outputs": [],
   "source": [
    "#concat list using +\n",
    "data_string = ' + '.join(data.columns[0:])"
   ]
  },
  {
   "cell_type": "code",
   "execution_count": 23,
   "metadata": {},
   "outputs": [
    {
     "data": {
      "text/plain": [
       "'Claim Amount + Income + Monthly Premium Auto + Months Since Last Claim + Months Since Policy Inception + Number of Open Complaints + Number of Policies + Total Claim Amount + CPI + GDP + Total_Fatalities_2011 + State_Iowa + State_Kansas + State_Missouri + State_Nebraska + State_Oklahoma + Response_No + Response_Yes + Coverage_Basic + Coverage_Extended + Coverage_Premium + Education_Bachelor + Education_College + Education_Doctor + Education_High School or Below + Education_Master + EmploymentStatus_Disabled + EmploymentStatus_Employed + EmploymentStatus_Medical Leave + EmploymentStatus_Retired + EmploymentStatus_Unemployed + Gender_F + Gender_M + Location Code_Rural + Location Code_Suburban + Location Code_Urban + Marital Status_Divorced + Marital Status_Married + Marital Status_Single + Policy Type_Corporate Auto + Policy Type_Personal Auto + Policy Type_Special Auto + Policy_Corporate L1 + Policy_Corporate L2 + Policy_Corporate L3 + Policy_Personal L1 + Policy_Personal L2 + Policy_Personal L3 + Policy_Special L1 + Policy_Special L2 + Policy_Special L3 + Claim Reason_Collision + Claim Reason_Hail + Claim Reason_Other + Claim Reason_Scratch/Dent + Sales Channel_Agent + Sales Channel_Branch + Sales Channel_Call Center + Sales Channel_Web + Vehicle Class_Four-Door Car + Vehicle Class_Luxury Car + Vehicle Class_Luxury SUV + Vehicle Class_SUV + Vehicle Class_Sports Car + Vehicle Class_Two-Door Car + Vehicle Size_Large + Vehicle Size_Medsize + Vehicle Size_Small'"
      ]
     },
     "execution_count": 23,
     "metadata": {},
     "output_type": "execute_result"
    }
   ],
   "source": [
    "data_string"
   ]
  },
  {
   "cell_type": "code",
   "execution_count": 19,
   "metadata": {},
   "outputs": [
    {
     "data": {
      "text/plain": [
       "0       0\n",
       "1       0\n",
       "2       0\n",
       "3       0\n",
       "4       0\n",
       "       ..\n",
       "9129    0\n",
       "9130    0\n",
       "9131    0\n",
       "9132    0\n",
       "9133    0\n",
       "Name: Policy_Special L2, Length: 9134, dtype: int64"
      ]
     },
     "execution_count": 19,
     "metadata": {},
     "output_type": "execute_result"
    }
   ],
   "source": [
    "data['Policy_Special L2']"
   ]
  },
  {
   "cell_type": "code",
   "execution_count": 46,
   "metadata": {},
   "outputs": [],
   "source": [
    "X_train = train.drop(['Claim Amount'], axis=1)\n",
    "y_train = train['Claim Amount']\n",
    "X_test = test.drop(['Claim Amount'], axis=1)\n",
    "y_test = test['Claim Amount']"
   ]
  },
  {
   "cell_type": "code",
   "execution_count": 233,
   "metadata": {},
   "outputs": [],
   "source": [
    "def OSR2(model, X_test, y_test, y_train):\n",
    "    \n",
    "    y_pred = model.predict(X_test)\n",
    "    SSE = np.sum((y_test - y_pred)**2)\n",
    "    SST = np.sum((y_test - np.mean(y_train))**2)\n",
    "                 \n",
    "    return (1 - SSE/SST)"
   ]
  },
  {
   "cell_type": "markdown",
   "metadata": {},
   "source": [
    "0. Baseline Model"
   ]
  },
  {
   "cell_type": "code",
   "execution_count": 110,
   "metadata": {},
   "outputs": [],
   "source": [
    "baseline = np.mean(y_train)\n",
    "test_pred_baseline = np.repeat(baseline, len(y_test))"
   ]
  },
  {
   "cell_type": "code",
   "execution_count": 128,
   "metadata": {},
   "outputs": [
    {
     "name": "stdout",
     "output_type": "stream",
     "text": [
      "Test RMSE: 680.581\n",
      "Test MAE: 444.041\n",
      "Test R2: -0.000\n"
     ]
    }
   ],
   "source": [
    "test_rmse = np.sqrt(mean_squared_error(y_test, test_pred_baseline))\n",
    "print('Test RMSE: %.3f' % test_rmse)\n",
    "test_mae = mean_absolute_error(y_test, test_pred_baseline)\n",
    "print('Test MAE: %.3f' % test_mae)\n",
    "test_r2 = r2_score(y_test, test_pred_baseline)\n",
    "print('Test R2: %.3f' % test_r2)"
   ]
  },
  {
   "attachments": {},
   "cell_type": "markdown",
   "metadata": {},
   "source": [
    "1. CART Model"
   ]
  },
  {
   "cell_type": "code",
   "execution_count": 28,
   "metadata": {},
   "outputs": [
    {
     "data": {
      "text/html": [
       "<style>#sk-container-id-2 {color: black;background-color: white;}#sk-container-id-2 pre{padding: 0;}#sk-container-id-2 div.sk-toggleable {background-color: white;}#sk-container-id-2 label.sk-toggleable__label {cursor: pointer;display: block;width: 100%;margin-bottom: 0;padding: 0.3em;box-sizing: border-box;text-align: center;}#sk-container-id-2 label.sk-toggleable__label-arrow:before {content: \"▸\";float: left;margin-right: 0.25em;color: #696969;}#sk-container-id-2 label.sk-toggleable__label-arrow:hover:before {color: black;}#sk-container-id-2 div.sk-estimator:hover label.sk-toggleable__label-arrow:before {color: black;}#sk-container-id-2 div.sk-toggleable__content {max-height: 0;max-width: 0;overflow: hidden;text-align: left;background-color: #f0f8ff;}#sk-container-id-2 div.sk-toggleable__content pre {margin: 0.2em;color: black;border-radius: 0.25em;background-color: #f0f8ff;}#sk-container-id-2 input.sk-toggleable__control:checked~div.sk-toggleable__content {max-height: 200px;max-width: 100%;overflow: auto;}#sk-container-id-2 input.sk-toggleable__control:checked~label.sk-toggleable__label-arrow:before {content: \"▾\";}#sk-container-id-2 div.sk-estimator input.sk-toggleable__control:checked~label.sk-toggleable__label {background-color: #d4ebff;}#sk-container-id-2 div.sk-label input.sk-toggleable__control:checked~label.sk-toggleable__label {background-color: #d4ebff;}#sk-container-id-2 input.sk-hidden--visually {border: 0;clip: rect(1px 1px 1px 1px);clip: rect(1px, 1px, 1px, 1px);height: 1px;margin: -1px;overflow: hidden;padding: 0;position: absolute;width: 1px;}#sk-container-id-2 div.sk-estimator {font-family: monospace;background-color: #f0f8ff;border: 1px dotted black;border-radius: 0.25em;box-sizing: border-box;margin-bottom: 0.5em;}#sk-container-id-2 div.sk-estimator:hover {background-color: #d4ebff;}#sk-container-id-2 div.sk-parallel-item::after {content: \"\";width: 100%;border-bottom: 1px solid gray;flex-grow: 1;}#sk-container-id-2 div.sk-label:hover label.sk-toggleable__label {background-color: #d4ebff;}#sk-container-id-2 div.sk-serial::before {content: \"\";position: absolute;border-left: 1px solid gray;box-sizing: border-box;top: 0;bottom: 0;left: 50%;z-index: 0;}#sk-container-id-2 div.sk-serial {display: flex;flex-direction: column;align-items: center;background-color: white;padding-right: 0.2em;padding-left: 0.2em;position: relative;}#sk-container-id-2 div.sk-item {position: relative;z-index: 1;}#sk-container-id-2 div.sk-parallel {display: flex;align-items: stretch;justify-content: center;background-color: white;position: relative;}#sk-container-id-2 div.sk-item::before, #sk-container-id-2 div.sk-parallel-item::before {content: \"\";position: absolute;border-left: 1px solid gray;box-sizing: border-box;top: 0;bottom: 0;left: 50%;z-index: -1;}#sk-container-id-2 div.sk-parallel-item {display: flex;flex-direction: column;z-index: 1;position: relative;background-color: white;}#sk-container-id-2 div.sk-parallel-item:first-child::after {align-self: flex-end;width: 50%;}#sk-container-id-2 div.sk-parallel-item:last-child::after {align-self: flex-start;width: 50%;}#sk-container-id-2 div.sk-parallel-item:only-child::after {width: 0;}#sk-container-id-2 div.sk-dashed-wrapped {border: 1px dashed gray;margin: 0 0.4em 0.5em 0.4em;box-sizing: border-box;padding-bottom: 0.4em;background-color: white;}#sk-container-id-2 div.sk-label label {font-family: monospace;font-weight: bold;display: inline-block;line-height: 1.2em;}#sk-container-id-2 div.sk-label-container {text-align: center;}#sk-container-id-2 div.sk-container {/* jupyter's `normalize.less` sets `[hidden] { display: none; }` but bootstrap.min.css set `[hidden] { display: none !important; }` so we also need the `!important` here to be able to override the default hidden behavior on the sphinx rendered scikit-learn.org. See: https://github.com/scikit-learn/scikit-learn/issues/21755 */display: inline-block !important;position: relative;}#sk-container-id-2 div.sk-text-repr-fallback {display: none;}</style><div id=\"sk-container-id-2\" class=\"sk-top-container\"><div class=\"sk-text-repr-fallback\"><pre>DecisionTreeRegressor(max_depth=10)</pre><b>In a Jupyter environment, please rerun this cell to show the HTML representation or trust the notebook. <br />On GitHub, the HTML representation is unable to render, please try loading this page with nbviewer.org.</b></div><div class=\"sk-container\" hidden><div class=\"sk-item\"><div class=\"sk-estimator sk-toggleable\"><input class=\"sk-toggleable__control sk-hidden--visually\" id=\"sk-estimator-id-2\" type=\"checkbox\" checked><label for=\"sk-estimator-id-2\" class=\"sk-toggleable__label sk-toggleable__label-arrow\">DecisionTreeRegressor</label><div class=\"sk-toggleable__content\"><pre>DecisionTreeRegressor(max_depth=10)</pre></div></div></div></div></div>"
      ],
      "text/plain": [
       "DecisionTreeRegressor(max_depth=10)"
      ]
     },
     "execution_count": 28,
     "metadata": {},
     "output_type": "execute_result"
    }
   ],
   "source": [
    "## CART\n",
    "from sklearn.tree import DecisionTreeRegressor\n",
    "\n",
    "X_train = train.drop(['Claim Amount'], axis=1)\n",
    "y_train = train['Claim Amount']\n",
    "cart = DecisionTreeRegressor(max_depth=10)\n",
    "cart.fit(X_train, y_train)"
   ]
  },
  {
   "cell_type": "code",
   "execution_count": 29,
   "metadata": {},
   "outputs": [],
   "source": [
    "test_pred_cart = cart.predict(test.drop(['Claim Amount'], axis=1))"
   ]
  },
  {
   "cell_type": "code",
   "execution_count": 42,
   "metadata": {},
   "outputs": [],
   "source": [
    "train_pred_cart = cart.predict(train.drop(['Claim Amount'], axis=1))"
   ]
  },
  {
   "cell_type": "code",
   "execution_count": 111,
   "metadata": {},
   "outputs": [
    {
     "name": "stdout",
     "output_type": "stream",
     "text": [
      "Test RMSE:  445.71809667499593\n",
      "Test MAE:  169.60076381248606\n",
      "Test OSR2:  0.5710957761982154\n"
     ]
    }
   ],
   "source": [
    "test_rmse_cart = np.sqrt(mean_squared_error(test['Claim Amount'], test_pred_cart))\n",
    "print('Test RMSE: ', test_rmse_cart)\n",
    "test_mae_cart = mean_absolute_error(test['Claim Amount'], test_pred_cart)\n",
    "print('Test MAE: ', test_mae_cart)\n",
    "test_or2_cart = OSR2(cart, X_test, y_test, y_train)\n",
    "print('Test OSR2: ', test_or2_cart)"
   ]
  },
  {
   "attachments": {},
   "cell_type": "markdown",
   "metadata": {},
   "source": [
    "1.1 CART with CV"
   ]
  },
  {
   "cell_type": "code",
   "execution_count": 37,
   "metadata": {},
   "outputs": [
    {
     "name": "stdout",
     "output_type": "stream",
     "text": [
      "Fitting 10 folds for each of 201 candidates, totalling 2010 fits\n"
     ]
    },
    {
     "data": {
      "text/html": [
       "<style>#sk-container-id-4 {color: black;background-color: white;}#sk-container-id-4 pre{padding: 0;}#sk-container-id-4 div.sk-toggleable {background-color: white;}#sk-container-id-4 label.sk-toggleable__label {cursor: pointer;display: block;width: 100%;margin-bottom: 0;padding: 0.3em;box-sizing: border-box;text-align: center;}#sk-container-id-4 label.sk-toggleable__label-arrow:before {content: \"▸\";float: left;margin-right: 0.25em;color: #696969;}#sk-container-id-4 label.sk-toggleable__label-arrow:hover:before {color: black;}#sk-container-id-4 div.sk-estimator:hover label.sk-toggleable__label-arrow:before {color: black;}#sk-container-id-4 div.sk-toggleable__content {max-height: 0;max-width: 0;overflow: hidden;text-align: left;background-color: #f0f8ff;}#sk-container-id-4 div.sk-toggleable__content pre {margin: 0.2em;color: black;border-radius: 0.25em;background-color: #f0f8ff;}#sk-container-id-4 input.sk-toggleable__control:checked~div.sk-toggleable__content {max-height: 200px;max-width: 100%;overflow: auto;}#sk-container-id-4 input.sk-toggleable__control:checked~label.sk-toggleable__label-arrow:before {content: \"▾\";}#sk-container-id-4 div.sk-estimator input.sk-toggleable__control:checked~label.sk-toggleable__label {background-color: #d4ebff;}#sk-container-id-4 div.sk-label input.sk-toggleable__control:checked~label.sk-toggleable__label {background-color: #d4ebff;}#sk-container-id-4 input.sk-hidden--visually {border: 0;clip: rect(1px 1px 1px 1px);clip: rect(1px, 1px, 1px, 1px);height: 1px;margin: -1px;overflow: hidden;padding: 0;position: absolute;width: 1px;}#sk-container-id-4 div.sk-estimator {font-family: monospace;background-color: #f0f8ff;border: 1px dotted black;border-radius: 0.25em;box-sizing: border-box;margin-bottom: 0.5em;}#sk-container-id-4 div.sk-estimator:hover {background-color: #d4ebff;}#sk-container-id-4 div.sk-parallel-item::after {content: \"\";width: 100%;border-bottom: 1px solid gray;flex-grow: 1;}#sk-container-id-4 div.sk-label:hover label.sk-toggleable__label {background-color: #d4ebff;}#sk-container-id-4 div.sk-serial::before {content: \"\";position: absolute;border-left: 1px solid gray;box-sizing: border-box;top: 0;bottom: 0;left: 50%;z-index: 0;}#sk-container-id-4 div.sk-serial {display: flex;flex-direction: column;align-items: center;background-color: white;padding-right: 0.2em;padding-left: 0.2em;position: relative;}#sk-container-id-4 div.sk-item {position: relative;z-index: 1;}#sk-container-id-4 div.sk-parallel {display: flex;align-items: stretch;justify-content: center;background-color: white;position: relative;}#sk-container-id-4 div.sk-item::before, #sk-container-id-4 div.sk-parallel-item::before {content: \"\";position: absolute;border-left: 1px solid gray;box-sizing: border-box;top: 0;bottom: 0;left: 50%;z-index: -1;}#sk-container-id-4 div.sk-parallel-item {display: flex;flex-direction: column;z-index: 1;position: relative;background-color: white;}#sk-container-id-4 div.sk-parallel-item:first-child::after {align-self: flex-end;width: 50%;}#sk-container-id-4 div.sk-parallel-item:last-child::after {align-self: flex-start;width: 50%;}#sk-container-id-4 div.sk-parallel-item:only-child::after {width: 0;}#sk-container-id-4 div.sk-dashed-wrapped {border: 1px dashed gray;margin: 0 0.4em 0.5em 0.4em;box-sizing: border-box;padding-bottom: 0.4em;background-color: white;}#sk-container-id-4 div.sk-label label {font-family: monospace;font-weight: bold;display: inline-block;line-height: 1.2em;}#sk-container-id-4 div.sk-label-container {text-align: center;}#sk-container-id-4 div.sk-container {/* jupyter's `normalize.less` sets `[hidden] { display: none; }` but bootstrap.min.css set `[hidden] { display: none !important; }` so we also need the `!important` here to be able to override the default hidden behavior on the sphinx rendered scikit-learn.org. See: https://github.com/scikit-learn/scikit-learn/issues/21755 */display: inline-block !important;position: relative;}#sk-container-id-4 div.sk-text-repr-fallback {display: none;}</style><div id=\"sk-container-id-4\" class=\"sk-top-container\"><div class=\"sk-text-repr-fallback\"><pre>GridSearchCV(cv=10, estimator=DecisionTreeRegressor(),\n",
       "             param_grid={&#x27;ccp_alpha&#x27;: array([0.    , 0.0005, 0.001 , 0.0015, 0.002 , 0.0025, 0.003 , 0.0035,\n",
       "       0.004 , 0.0045, 0.005 , 0.0055, 0.006 , 0.0065, 0.007 , 0.0075,\n",
       "       0.008 , 0.0085, 0.009 , 0.0095, 0.01  , 0.0105, 0.011 , 0.0115,\n",
       "       0.012 , 0.0125, 0.013 , 0.0135, 0.014 , 0.0145, 0.015 , 0.0155,\n",
       "       0.016 , 0.0165, 0.017 , 0.0175, 0.018 , 0.0185, 0.019 , 0.0195,\n",
       "       0.02  , 0.020...\n",
       "       0.08  , 0.0805, 0.081 , 0.0815, 0.082 , 0.0825, 0.083 , 0.0835,\n",
       "       0.084 , 0.0845, 0.085 , 0.0855, 0.086 , 0.0865, 0.087 , 0.0875,\n",
       "       0.088 , 0.0885, 0.089 , 0.0895, 0.09  , 0.0905, 0.091 , 0.0915,\n",
       "       0.092 , 0.0925, 0.093 , 0.0935, 0.094 , 0.0945, 0.095 , 0.0955,\n",
       "       0.096 , 0.0965, 0.097 , 0.0975, 0.098 , 0.0985, 0.099 , 0.0995,\n",
       "       0.1   ]),\n",
       "                         &#x27;max_depth&#x27;: [30], &#x27;min_samples_leaf&#x27;: [5],\n",
       "                         &#x27;min_samples_split&#x27;: [20], &#x27;random_state&#x27;: [88]},\n",
       "             scoring=&#x27;r2&#x27;, verbose=1)</pre><b>In a Jupyter environment, please rerun this cell to show the HTML representation or trust the notebook. <br />On GitHub, the HTML representation is unable to render, please try loading this page with nbviewer.org.</b></div><div class=\"sk-container\" hidden><div class=\"sk-item sk-dashed-wrapped\"><div class=\"sk-label-container\"><div class=\"sk-label sk-toggleable\"><input class=\"sk-toggleable__control sk-hidden--visually\" id=\"sk-estimator-id-4\" type=\"checkbox\" ><label for=\"sk-estimator-id-4\" class=\"sk-toggleable__label sk-toggleable__label-arrow\">GridSearchCV</label><div class=\"sk-toggleable__content\"><pre>GridSearchCV(cv=10, estimator=DecisionTreeRegressor(),\n",
       "             param_grid={&#x27;ccp_alpha&#x27;: array([0.    , 0.0005, 0.001 , 0.0015, 0.002 , 0.0025, 0.003 , 0.0035,\n",
       "       0.004 , 0.0045, 0.005 , 0.0055, 0.006 , 0.0065, 0.007 , 0.0075,\n",
       "       0.008 , 0.0085, 0.009 , 0.0095, 0.01  , 0.0105, 0.011 , 0.0115,\n",
       "       0.012 , 0.0125, 0.013 , 0.0135, 0.014 , 0.0145, 0.015 , 0.0155,\n",
       "       0.016 , 0.0165, 0.017 , 0.0175, 0.018 , 0.0185, 0.019 , 0.0195,\n",
       "       0.02  , 0.020...\n",
       "       0.08  , 0.0805, 0.081 , 0.0815, 0.082 , 0.0825, 0.083 , 0.0835,\n",
       "       0.084 , 0.0845, 0.085 , 0.0855, 0.086 , 0.0865, 0.087 , 0.0875,\n",
       "       0.088 , 0.0885, 0.089 , 0.0895, 0.09  , 0.0905, 0.091 , 0.0915,\n",
       "       0.092 , 0.0925, 0.093 , 0.0935, 0.094 , 0.0945, 0.095 , 0.0955,\n",
       "       0.096 , 0.0965, 0.097 , 0.0975, 0.098 , 0.0985, 0.099 , 0.0995,\n",
       "       0.1   ]),\n",
       "                         &#x27;max_depth&#x27;: [30], &#x27;min_samples_leaf&#x27;: [5],\n",
       "                         &#x27;min_samples_split&#x27;: [20], &#x27;random_state&#x27;: [88]},\n",
       "             scoring=&#x27;r2&#x27;, verbose=1)</pre></div></div></div><div class=\"sk-parallel\"><div class=\"sk-parallel-item\"><div class=\"sk-item\"><div class=\"sk-label-container\"><div class=\"sk-label sk-toggleable\"><input class=\"sk-toggleable__control sk-hidden--visually\" id=\"sk-estimator-id-5\" type=\"checkbox\" ><label for=\"sk-estimator-id-5\" class=\"sk-toggleable__label sk-toggleable__label-arrow\">estimator: DecisionTreeRegressor</label><div class=\"sk-toggleable__content\"><pre>DecisionTreeRegressor()</pre></div></div></div><div class=\"sk-serial\"><div class=\"sk-item\"><div class=\"sk-estimator sk-toggleable\"><input class=\"sk-toggleable__control sk-hidden--visually\" id=\"sk-estimator-id-6\" type=\"checkbox\" ><label for=\"sk-estimator-id-6\" class=\"sk-toggleable__label sk-toggleable__label-arrow\">DecisionTreeRegressor</label><div class=\"sk-toggleable__content\"><pre>DecisionTreeRegressor()</pre></div></div></div></div></div></div></div></div></div></div>"
      ],
      "text/plain": [
       "GridSearchCV(cv=10, estimator=DecisionTreeRegressor(),\n",
       "             param_grid={'ccp_alpha': array([0.    , 0.0005, 0.001 , 0.0015, 0.002 , 0.0025, 0.003 , 0.0035,\n",
       "       0.004 , 0.0045, 0.005 , 0.0055, 0.006 , 0.0065, 0.007 , 0.0075,\n",
       "       0.008 , 0.0085, 0.009 , 0.0095, 0.01  , 0.0105, 0.011 , 0.0115,\n",
       "       0.012 , 0.0125, 0.013 , 0.0135, 0.014 , 0.0145, 0.015 , 0.0155,\n",
       "       0.016 , 0.0165, 0.017 , 0.0175, 0.018 , 0.0185, 0.019 , 0.0195,\n",
       "       0.02  , 0.020...\n",
       "       0.08  , 0.0805, 0.081 , 0.0815, 0.082 , 0.0825, 0.083 , 0.0835,\n",
       "       0.084 , 0.0845, 0.085 , 0.0855, 0.086 , 0.0865, 0.087 , 0.0875,\n",
       "       0.088 , 0.0885, 0.089 , 0.0895, 0.09  , 0.0905, 0.091 , 0.0915,\n",
       "       0.092 , 0.0925, 0.093 , 0.0935, 0.094 , 0.0945, 0.095 , 0.0955,\n",
       "       0.096 , 0.0965, 0.097 , 0.0975, 0.098 , 0.0985, 0.099 , 0.0995,\n",
       "       0.1   ]),\n",
       "                         'max_depth': [30], 'min_samples_leaf': [5],\n",
       "                         'min_samples_split': [20], 'random_state': [88]},\n",
       "             scoring='r2', verbose=1)"
      ]
     },
     "execution_count": 37,
     "metadata": {},
     "output_type": "execute_result"
    }
   ],
   "source": [
    "#cross-validation with custom loss function. Calculate the loss for each hyperparameter (grid values for hyperparameters)\n",
    "from sklearn.metrics import make_scorer\n",
    "from sklearn.tree import DecisionTreeRegressor  \n",
    "from sklearn.model_selection import GridSearchCV   \n",
    "\n",
    "grid_values = {'ccp_alpha': np.linspace(0, 0.10, 201),\n",
    "               'min_samples_leaf': [5],\n",
    "               'min_samples_split': [20],\n",
    "               'max_depth': [30],\n",
    "               'random_state': [88]}\n",
    "\n",
    "            \n",
    "dtr = DecisionTreeRegressor()\n",
    "dtr_cv_acc = GridSearchCV(dtr, param_grid = grid_values, scoring = 'r2', cv=10, verbose=1) # default scoring metric to optimize is accuracy, used as default if none given.\n",
    "\n",
    "dtr_cv_acc.fit(X_train, y_train)"
   ]
  },
  {
   "cell_type": "code",
   "execution_count": 38,
   "metadata": {},
   "outputs": [
    {
     "data": {
      "text/html": [
       "<div>\n",
       "<style scoped>\n",
       "    .dataframe tbody tr th:only-of-type {\n",
       "        vertical-align: middle;\n",
       "    }\n",
       "\n",
       "    .dataframe tbody tr th {\n",
       "        vertical-align: top;\n",
       "    }\n",
       "\n",
       "    .dataframe thead th {\n",
       "        text-align: right;\n",
       "    }\n",
       "</style>\n",
       "<table border=\"1\" class=\"dataframe\">\n",
       "  <thead>\n",
       "    <tr style=\"text-align: right;\">\n",
       "      <th></th>\n",
       "      <th>ccp alpha</th>\n",
       "      <th>Mean R2</th>\n",
       "    </tr>\n",
       "  </thead>\n",
       "  <tbody>\n",
       "    <tr>\n",
       "      <th>0</th>\n",
       "      <td>0.0</td>\n",
       "      <td>0.594105</td>\n",
       "    </tr>\n",
       "    <tr>\n",
       "      <th>1</th>\n",
       "      <td>0.0005</td>\n",
       "      <td>0.594105</td>\n",
       "    </tr>\n",
       "    <tr>\n",
       "      <th>2</th>\n",
       "      <td>0.001</td>\n",
       "      <td>0.594105</td>\n",
       "    </tr>\n",
       "    <tr>\n",
       "      <th>3</th>\n",
       "      <td>0.0015</td>\n",
       "      <td>0.594105</td>\n",
       "    </tr>\n",
       "    <tr>\n",
       "      <th>4</th>\n",
       "      <td>0.002</td>\n",
       "      <td>0.594105</td>\n",
       "    </tr>\n",
       "    <tr>\n",
       "      <th>...</th>\n",
       "      <td>...</td>\n",
       "      <td>...</td>\n",
       "    </tr>\n",
       "    <tr>\n",
       "      <th>196</th>\n",
       "      <td>0.098</td>\n",
       "      <td>0.594101</td>\n",
       "    </tr>\n",
       "    <tr>\n",
       "      <th>197</th>\n",
       "      <td>0.0985</td>\n",
       "      <td>0.594101</td>\n",
       "    </tr>\n",
       "    <tr>\n",
       "      <th>198</th>\n",
       "      <td>0.099</td>\n",
       "      <td>0.594101</td>\n",
       "    </tr>\n",
       "    <tr>\n",
       "      <th>199</th>\n",
       "      <td>0.0995</td>\n",
       "      <td>0.594101</td>\n",
       "    </tr>\n",
       "    <tr>\n",
       "      <th>200</th>\n",
       "      <td>0.1</td>\n",
       "      <td>0.594101</td>\n",
       "    </tr>\n",
       "  </tbody>\n",
       "</table>\n",
       "<p>201 rows × 2 columns</p>\n",
       "</div>"
      ],
      "text/plain": [
       "    ccp alpha   Mean R2\n",
       "0         0.0  0.594105\n",
       "1      0.0005  0.594105\n",
       "2       0.001  0.594105\n",
       "3      0.0015  0.594105\n",
       "4       0.002  0.594105\n",
       "..        ...       ...\n",
       "196     0.098  0.594101\n",
       "197    0.0985  0.594101\n",
       "198     0.099  0.594101\n",
       "199    0.0995  0.594101\n",
       "200       0.1  0.594101\n",
       "\n",
       "[201 rows x 2 columns]"
      ]
     },
     "execution_count": 38,
     "metadata": {},
     "output_type": "execute_result"
    }
   ],
   "source": [
    "ccp = dtr_cv_acc.cv_results_['param_ccp_alpha'].data\n",
    "acc = dtr_cv_acc.cv_results_['mean_test_score']\n",
    "pd.DataFrame({'ccp alpha': ccp, 'Mean R2': acc})"
   ]
  },
  {
   "cell_type": "code",
   "execution_count": 39,
   "metadata": {},
   "outputs": [],
   "source": [
    "import matplotlib.pyplot as plt"
   ]
  },
  {
   "cell_type": "code",
   "execution_count": 220,
   "metadata": {},
   "outputs": [
    {
     "data": {
      "image/png": "[encoded data removed]",
      "text/plain": [
       "<Figure size 576x432 with 1 Axes>"
      ]
     },
     "metadata": {},
     "output_type": "display_data"
    }
   ],
   "source": [
    "plt.figure(figsize=(8, 6))\n",
    "plt.xlabel('ccp alpha', fontsize=16)\n",
    "plt.ylabel('mean validation average R2', fontsize=16)\n",
    "# plt.scatter(ccp, acc, s=1)\n",
    "plt.plot(ccp, acc, linewidth=3)\n",
    "plt.grid(True, which='both')\n",
    "plt.savefig('dtr.png',dpi=500, bbox_inches='tight')"
   ]
  },
  {
   "cell_type": "code",
   "execution_count": 200,
   "metadata": {},
   "outputs": [
    {
     "name": "stdout",
     "output_type": "stream",
     "text": [
      "Grid best parameter (max R2):  0.009000000000000001\n",
      "Grid best score (max R2):  0.5941048479911553\n"
     ]
    }
   ],
   "source": [
    "print('Grid best parameter (max R2): ', dtr_cv_acc.best_params_['ccp_alpha'])\n",
    "print('Grid best score (max R2): ', dtr_cv_acc.best_score_)"
   ]
  },
  {
   "cell_type": "code",
   "execution_count": 201,
   "metadata": {},
   "outputs": [],
   "source": [
    "test_pred_cartcv = dtr_cv_acc.best_estimator_.predict(X_test)"
   ]
  },
  {
   "cell_type": "code",
   "execution_count": 117,
   "metadata": {},
   "outputs": [
    {
     "name": "stdout",
     "output_type": "stream",
     "text": [
      "Test RMSE:  441.0080059537557\n",
      "Test MAE:  167.82654117174192\n",
      "Test OSR2:  0.5801127031987681\n"
     ]
    }
   ],
   "source": [
    "test_rmse_cartcv = np.sqrt(mean_squared_error(test['Claim Amount'], test_pred_cartcv))\n",
    "print('Test RMSE: ', test_rmse_cartcv)\n",
    "test_mae_cartcv = mean_absolute_error(test['Claim Amount'], test_pred_cartcv)\n",
    "print('Test MAE: ', test_mae_cartcv)\n",
    "test_or2_cartcv = OSR2(dtr_cv_acc.best_estimator_,X_test,y_test,y_train)\n",
    "print('Test OSR2: ', test_or2_cartcv)"
   ]
  },
  {
   "cell_type": "code",
   "execution_count": 206,
   "metadata": {},
   "outputs": [],
   "source": [
    "importance = dtr_cv_acc.best_estimator_.feature_importances_\n",
    "indices = np.argsort(importance)[::-1]"
   ]
  },
  {
   "cell_type": "code",
   "execution_count": 207,
   "metadata": {},
   "outputs": [
    {
     "data": {
      "image/png": "[encoded data removed]",
      "text/plain": [
       "<Figure size 432x288 with 1 Axes>"
      ]
     },
     "metadata": {},
     "output_type": "display_data"
    }
   ],
   "source": [
    "import seaborn as sns\n",
    "sns.set(style=\"whitegrid\")\n",
    "sns.barplot(x=100*importance[indices][:10], y=X_train.columns[indices][:10], palette=\"Blues_d\")\n",
    "plt.savefig('dtr_im.png',dpi=500, bbox_inches='tight')"
   ]
  },
  {
   "attachments": {},
   "cell_type": "markdown",
   "metadata": {},
   "source": [
    "2. Linear Regression"
   ]
  },
  {
   "cell_type": "code",
   "execution_count": 31,
   "metadata": {},
   "outputs": [
    {
     "data": {
      "text/html": [
       "<style>#sk-container-id-3 {color: black;background-color: white;}#sk-container-id-3 pre{padding: 0;}#sk-container-id-3 div.sk-toggleable {background-color: white;}#sk-container-id-3 label.sk-toggleable__label {cursor: pointer;display: block;width: 100%;margin-bottom: 0;padding: 0.3em;box-sizing: border-box;text-align: center;}#sk-container-id-3 label.sk-toggleable__label-arrow:before {content: \"▸\";float: left;margin-right: 0.25em;color: #696969;}#sk-container-id-3 label.sk-toggleable__label-arrow:hover:before {color: black;}#sk-container-id-3 div.sk-estimator:hover label.sk-toggleable__label-arrow:before {color: black;}#sk-container-id-3 div.sk-toggleable__content {max-height: 0;max-width: 0;overflow: hidden;text-align: left;background-color: #f0f8ff;}#sk-container-id-3 div.sk-toggleable__content pre {margin: 0.2em;color: black;border-radius: 0.25em;background-color: #f0f8ff;}#sk-container-id-3 input.sk-toggleable__control:checked~div.sk-toggleable__content {max-height: 200px;max-width: 100%;overflow: auto;}#sk-container-id-3 input.sk-toggleable__control:checked~label.sk-toggleable__label-arrow:before {content: \"▾\";}#sk-container-id-3 div.sk-estimator input.sk-toggleable__control:checked~label.sk-toggleable__label {background-color: #d4ebff;}#sk-container-id-3 div.sk-label input.sk-toggleable__control:checked~label.sk-toggleable__label {background-color: #d4ebff;}#sk-container-id-3 input.sk-hidden--visually {border: 0;clip: rect(1px 1px 1px 1px);clip: rect(1px, 1px, 1px, 1px);height: 1px;margin: -1px;overflow: hidden;padding: 0;position: absolute;width: 1px;}#sk-container-id-3 div.sk-estimator {font-family: monospace;background-color: #f0f8ff;border: 1px dotted black;border-radius: 0.25em;box-sizing: border-box;margin-bottom: 0.5em;}#sk-container-id-3 div.sk-estimator:hover {background-color: #d4ebff;}#sk-container-id-3 div.sk-parallel-item::after {content: \"\";width: 100%;border-bottom: 1px solid gray;flex-grow: 1;}#sk-container-id-3 div.sk-label:hover label.sk-toggleable__label {background-color: #d4ebff;}#sk-container-id-3 div.sk-serial::before {content: \"\";position: absolute;border-left: 1px solid gray;box-sizing: border-box;top: 0;bottom: 0;left: 50%;z-index: 0;}#sk-container-id-3 div.sk-serial {display: flex;flex-direction: column;align-items: center;background-color: white;padding-right: 0.2em;padding-left: 0.2em;position: relative;}#sk-container-id-3 div.sk-item {position: relative;z-index: 1;}#sk-container-id-3 div.sk-parallel {display: flex;align-items: stretch;justify-content: center;background-color: white;position: relative;}#sk-container-id-3 div.sk-item::before, #sk-container-id-3 div.sk-parallel-item::before {content: \"\";position: absolute;border-left: 1px solid gray;box-sizing: border-box;top: 0;bottom: 0;left: 50%;z-index: -1;}#sk-container-id-3 div.sk-parallel-item {display: flex;flex-direction: column;z-index: 1;position: relative;background-color: white;}#sk-container-id-3 div.sk-parallel-item:first-child::after {align-self: flex-end;width: 50%;}#sk-container-id-3 div.sk-parallel-item:last-child::after {align-self: flex-start;width: 50%;}#sk-container-id-3 div.sk-parallel-item:only-child::after {width: 0;}#sk-container-id-3 div.sk-dashed-wrapped {border: 1px dashed gray;margin: 0 0.4em 0.5em 0.4em;box-sizing: border-box;padding-bottom: 0.4em;background-color: white;}#sk-container-id-3 div.sk-label label {font-family: monospace;font-weight: bold;display: inline-block;line-height: 1.2em;}#sk-container-id-3 div.sk-label-container {text-align: center;}#sk-container-id-3 div.sk-container {/* jupyter's `normalize.less` sets `[hidden] { display: none; }` but bootstrap.min.css set `[hidden] { display: none !important; }` so we also need the `!important` here to be able to override the default hidden behavior on the sphinx rendered scikit-learn.org. See: https://github.com/scikit-learn/scikit-learn/issues/21755 */display: inline-block !important;position: relative;}#sk-container-id-3 div.sk-text-repr-fallback {display: none;}</style><div id=\"sk-container-id-3\" class=\"sk-top-container\"><div class=\"sk-text-repr-fallback\"><pre>LinearRegression()</pre><b>In a Jupyter environment, please rerun this cell to show the HTML representation or trust the notebook. <br />On GitHub, the HTML representation is unable to render, please try loading this page with nbviewer.org.</b></div><div class=\"sk-container\" hidden><div class=\"sk-item\"><div class=\"sk-estimator sk-toggleable\"><input class=\"sk-toggleable__control sk-hidden--visually\" id=\"sk-estimator-id-3\" type=\"checkbox\" checked><label for=\"sk-estimator-id-3\" class=\"sk-toggleable__label sk-toggleable__label-arrow\">LinearRegression</label><div class=\"sk-toggleable__content\"><pre>LinearRegression()</pre></div></div></div></div></div>"
      ],
      "text/plain": [
       "LinearRegression()"
      ]
     },
     "execution_count": 31,
     "metadata": {},
     "output_type": "execute_result"
    }
   ],
   "source": [
    "# Linear Regression\n",
    "from sklearn.linear_model import LinearRegression\n",
    "lm = LinearRegression()\n",
    "lm.fit(X_train, y_train)"
   ]
  },
  {
   "cell_type": "code",
   "execution_count": 113,
   "metadata": {},
   "outputs": [
    {
     "name": "stdout",
     "output_type": "stream",
     "text": [
      "Test RMSE:  633.3793641808883\n",
      "Test MAE:  390.66086561773056\n",
      "Test OSR2:  0.13390085873896085\n"
     ]
    }
   ],
   "source": [
    "test_pred_lm = lm.predict(test.drop(['Claim Amount'], axis=1))\n",
    "test_rmse_lm = np.sqrt(mean_squared_error(test['Claim Amount'], test_pred_lm))\n",
    "print('Test RMSE: ', test_rmse_lm)\n",
    "test_mae_lm = mean_absolute_error(test['Claim Amount'], test_pred_lm)\n",
    "print('Test MAE: ', test_mae_lm)\n",
    "test_or2_lm = OSR2(lm, X_test, y_test, y_train)\n",
    "print('Test OSR2: ', test_or2_lm)"
   ]
  },
  {
   "cell_type": "code",
   "execution_count": 133,
   "metadata": {},
   "outputs": [
    {
     "name": "stdout",
     "output_type": "stream",
     "text": [
      "Intercept:  2226.080821366144\n",
      "Coefficients:  [-3.09911571e-04  6.80784261e+00  5.16809414e-01 -2.77333628e-01\n",
      " -3.13748265e+01  8.90459342e+00  1.22071420e-02 -5.45180024e+00\n",
      " -1.76246900e-02 -1.96351271e-01  7.11845491e+00  5.79286809e+00\n",
      " -4.42305704e+00 -8.88664588e+00  3.98379919e-01  2.75546378e+01\n",
      " -2.75546378e+01  8.61771612e+00  6.74682375e+00 -1.53645399e+01\n",
      "  7.15256785e-01  4.27397125e+00 -2.99742237e+01  1.25703608e+01\n",
      "  1.24146348e+01 -4.13966335e+01  4.74696262e+01  7.95857242e+00\n",
      " -2.86456006e+00 -1.11670051e+01 -1.94880459e+00  1.94880459e+00\n",
      "  1.26795551e+01 -1.21740242e+01 -5.05530958e-01  3.58786295e+01\n",
      "  9.97686139e+00 -4.58554909e+01 -2.95545725e+01 -1.72347339e+01\n",
      "  4.67893065e+01  2.14408344e+01 -4.81579750e+01 -2.83743201e+00\n",
      " -1.88286134e+01  1.34001310e+01 -1.18062515e+01  5.39647207e+01\n",
      " -4.57554175e+01  3.85800033e+01  7.52293514e+01 -2.31789087e+01\n",
      " -6.69232350e+01  1.48727924e+01 -1.47338463e+01 -2.37567621e+00\n",
      "  1.85549819e+01 -1.44545942e+00 -4.81325802e+01  7.10832294e+01\n",
      " -1.24758277e+01  1.49473682e+01  2.75527665e+01 -5.29749562e+01\n",
      " -2.60697465e+01 -1.01277743e+01  3.61975207e+01]\n"
     ]
    }
   ],
   "source": [
    "print('Intercept: ', lm.intercept_)\n",
    "print('Coefficients: ', lm.coef_)"
   ]
  },
  {
   "cell_type": "code",
   "execution_count": 187,
   "metadata": {},
   "outputs": [],
   "source": [
    "indices = np.argsort(lm.coef_)[::-1]"
   ]
  },
  {
   "cell_type": "code",
   "execution_count": 188,
   "metadata": {},
   "outputs": [
    {
     "name": "stdout",
     "output_type": "stream",
     "text": [
      "Claim Reason_Collision: 75.229\n",
      "Vehicle Class_Luxury Car: 71.083\n",
      "Policy_Special L1: 53.965\n",
      "EmploymentStatus_Employed: 47.470\n",
      "Policy Type_Special Auto: 46.789\n",
      "Policy_Special L3: 38.580\n",
      "Vehicle Size_Small: 36.198\n",
      "Marital Status_Divorced: 35.879\n",
      "Response_No: 27.555\n",
      "Vehicle Class_Sports Car: 27.553\n"
     ]
    }
   ],
   "source": [
    "for i in range(10):\n",
    "    print('%s: %0.3f' % (X_train.columns[indices[i]], lm.coef_[indices[i]]))"
   ]
  },
  {
   "cell_type": "code",
   "execution_count": 196,
   "metadata": {},
   "outputs": [
    {
     "data": {
      "image/png": "[encoded data removed]",
      "text/plain": [
       "<Figure size 432x288 with 1 Axes>"
      ]
     },
     "metadata": {},
     "output_type": "display_data"
    }
   ],
   "source": [
    "sns.set(style=\"whitegrid\")\n",
    "sns.barplot(x=lm.coef_[indices][:10], y=X_train.columns[indices][:10], palette=\"Blues_d\")\n",
    "plt.savefig('lm.png',bbox_inches = 'tight',dpi=500)"
   ]
  },
  {
   "cell_type": "code",
   "execution_count": 132,
   "metadata": {},
   "outputs": [
    {
     "name": "stdout",
     "output_type": "stream",
     "text": [
      "                            OLS Regression Results                            \n",
      "==============================================================================\n",
      "Dep. Variable:           Claim Amount   R-squared:                       0.171\n",
      "Model:                            OLS   Adj. R-squared:                  0.163\n",
      "Method:                 Least Squares   F-statistic:                     23.28\n",
      "Date:                Sat, 29 Apr 2023   Prob (F-statistic):          1.90e-182\n",
      "Time:                        16:06:59   Log-Likelihood:                -42950.\n",
      "No. Observations:                5480   AIC:                         8.600e+04\n",
      "Df Residuals:                    5431   BIC:                         8.632e+04\n",
      "Df Model:                          48                                         \n",
      "Covariance Type:            nonrobust                                         \n",
      "==================================================================================================\n",
      "                                     coef    std err          t      P>|t|      [0.025      0.975]\n",
      "--------------------------------------------------------------------------------------------------\n",
      "const                              0.0653      0.124      0.529      0.597      -0.177       0.307\n",
      "Income                            -0.0003      0.000     -0.631      0.528      -0.001       0.001\n",
      "Monthly Premium Auto               6.8078      1.259      5.408      0.000       4.340       9.276\n",
      "Months Since Last Claim            0.5168      0.833      0.620      0.535      -1.117       2.151\n",
      "Months Since Policy Inception     -0.2773      0.303     -0.915      0.360      -0.872       0.317\n",
      "Number of Open Complaints        -31.3748      9.075     -3.457      0.001     -49.165     -13.584\n",
      "Number of Policies                 8.9046      3.578      2.489      0.013       1.891      15.918\n",
      "Total Claim Amount                 0.0122      0.059      0.206      0.837      -0.104       0.129\n",
      "CPI                               -0.5690      3.468     -0.164      0.870      -7.367       6.229\n",
      "GDP                                0.0055      0.016      0.357      0.721      -0.025       0.036\n",
      "Total_Fatalities_2011              0.0525      0.162      0.323      0.747      -0.266       0.371\n",
      "State_Iowa                         1.0336     15.168      0.068      0.946     -28.701      30.769\n",
      "State_Kansas                      14.7922     22.376      0.661      0.509     -29.073      58.658\n",
      "State_Missouri                    -5.4163      6.794     -0.797      0.425     -18.735       7.903\n",
      "State_Nebraska                   -10.4158     13.541     -0.769      0.442     -36.962      16.130\n",
      "State_Oklahoma                     0.0716      0.721      0.099      0.921      -1.342       1.485\n",
      "Response_No                       27.5873     13.245      2.083      0.037       1.622      53.552\n",
      "Response_Yes                     -27.5220     13.247     -2.078      0.038     -53.491      -1.553\n",
      "Coverage_Basic                     8.6395     30.801      0.280      0.779     -51.742      69.021\n",
      "Coverage_Extended                  6.7686     14.414      0.470      0.639     -21.488      35.025\n",
      "Coverage_Premium                 -15.3428     36.266     -0.423      0.672     -86.438      55.752\n",
      "Education_Bachelor                 0.7283     16.590      0.044      0.965     -31.794      33.251\n",
      "Education_College                  4.2870     16.812      0.255      0.799     -28.671      37.245\n",
      "Education_Doctor                 -29.9612     35.199     -0.851      0.395     -98.966      39.044\n",
      "Education_High School or Below    12.5834     17.163      0.733      0.463     -21.063      46.230\n",
      "Education_Master                  12.4277     25.569      0.486      0.627     -37.698      62.554\n",
      "EmploymentStatus_Disabled        -41.3836     34.805     -1.189      0.234    -109.615      26.848\n",
      "EmploymentStatus_Employed         47.4827     23.977      1.980      0.048       0.478      94.487\n",
      "EmploymentStatus_Medical Leave     7.9716     33.087      0.241      0.810     -56.892      72.835\n",
      "EmploymentStatus_Retired          -2.8515     40.338     -0.071      0.944     -81.931      76.228\n",
      "EmploymentStatus_Unemployed      -11.1539     24.129     -0.462      0.644     -58.457      36.149\n",
      "Gender_F                          -1.9162      8.438     -0.227      0.820     -18.457      14.625\n",
      "Gender_M                           1.9815      8.438      0.235      0.814     -14.559      18.522\n",
      "Location Code_Rural               12.7013     19.454      0.653      0.514     -25.437      50.840\n",
      "Location Code_Suburban           -12.1523     17.414     -0.698      0.485     -46.292      21.987\n",
      "Location Code_Urban               -0.4838     15.731     -0.031      0.975     -31.323      30.355\n",
      "Marital Status_Divorced           35.9004     16.165      2.221      0.026       4.211      67.590\n",
      "Marital Status_Married             9.9986     12.198      0.820      0.412     -13.914      33.911\n",
      "Marital Status_Single            -45.8337     14.935     -3.069      0.002     -75.112     -16.555\n",
      "Policy Type_Corporate Auto       -29.5328     15.246     -1.937      0.053     -59.422       0.356\n",
      "Policy Type_Personal Auto        -17.2130     13.525     -1.273      0.203     -43.727       9.301\n",
      "Policy Type_Special Auto          46.8111     23.656      1.979      0.048       0.437      93.186\n",
      "Policy_Corporate L1               21.4481     31.560      0.680      0.497     -40.421      83.317\n",
      "Policy_Corporate L2              -48.1507     27.476     -1.752      0.080    -102.014       5.713\n",
      "Policy_Corporate L3               -2.8302     23.613     -0.120      0.905     -49.122      43.462\n",
      "Policy_Personal L1               -18.8214     17.933     -1.050      0.294     -53.976      16.334\n",
      "Policy_Personal L2                13.4074     15.062      0.890      0.373     -16.121      42.936\n",
      "Policy_Personal L3               -11.7990     13.309     -0.887      0.375     -37.890      14.292\n",
      "Policy_Special L1                 53.9720     79.582      0.678      0.498    -102.041     209.985\n",
      "Policy_Special L2                -45.7482     57.656     -0.793      0.428    -158.778      67.281\n",
      "Policy_Special L3                 38.5873     56.924      0.678      0.498     -73.006     150.180\n",
      "Claim Reason_Collision            75.2457     14.249      5.281      0.000      47.312     103.180\n",
      "Claim Reason_Hail                -23.1626     14.633     -1.583      0.114     -51.850       5.525\n",
      "Claim Reason_Other               -66.9069     20.522     -3.260      0.001    -107.138     -26.676\n",
      "Claim Reason_Scratch/Dent         14.8891     17.693      0.842      0.400     -19.797      49.575\n",
      "Sales Channel_Agent              -14.7175     13.344     -1.103      0.270     -40.877      11.442\n",
      "Sales Channel_Branch              -2.3594     14.258     -0.165      0.869     -30.310      25.591\n",
      "Sales Channel_Call Center         18.5713     16.155      1.150      0.250     -13.099      50.241\n",
      "Sales Channel_Web                 -1.4291     18.025     -0.079      0.937     -36.765      33.907\n",
      "Vehicle Class_Four-Door Car      -48.1217     74.263     -0.648      0.517    -193.708      97.464\n",
      "Vehicle Class_Luxury Car          71.0941    104.273      0.682      0.495    -133.322     275.511\n",
      "Vehicle Class_Luxury SUV         -12.4649    101.750     -0.123      0.903    -211.936     187.006\n",
      "Vehicle Class_SUV                 14.9583     29.216      0.512      0.609     -42.318      72.234\n",
      "Vehicle Class_Sports Car          27.5637     37.601      0.733      0.464     -46.149     101.277\n",
      "Vehicle Class_Two-Door Car       -52.9641     74.988     -0.706      0.480    -199.970      94.042\n",
      "Vehicle Size_Large               -26.0480     18.729     -1.391      0.164     -62.764      10.668\n",
      "Vehicle Size_Medsize             -10.1060     12.754     -0.792      0.428     -35.109      14.897\n",
      "Vehicle Size_Small                36.2193     16.035      2.259      0.024       4.784      67.655\n",
      "==============================================================================\n",
      "Omnibus:                     3501.908   Durbin-Watson:                   2.003\n",
      "Prob(Omnibus):                  0.000   Jarque-Bera (JB):            43648.179\n",
      "Skew:                           2.920   Prob(JB):                         0.00\n",
      "Kurtosis:                      15.532   Cond. No.                     5.39e+19\n",
      "==============================================================================\n",
      "\n",
      "Notes:\n",
      "[1] Standard Errors assume that the covariance matrix of the errors is correctly specified.\n",
      "[2] The smallest eigenvalue is 7.21e-27. This might indicate that there are\n",
      "strong multicollinearity problems or that the design matrix is singular.\n"
     ]
    },
    {
     "name": "stderr",
     "output_type": "stream",
     "text": [
      "/opt/anaconda3/lib/python3.9/site-packages/statsmodels/tsa/tsatools.py:142: FutureWarning: In a future version of pandas all arguments of concat except for the argument 'objs' will be keyword-only\n",
      "  x = pd.concat(x[::order], 1)\n"
     ]
    }
   ],
   "source": [
    "import statsmodels.api as sm\n",
    "\n",
    "#add constant to predictor variables\n",
    "x = sm.add_constant(X_train)\n",
    "\n",
    "#fit linear regression model\n",
    "model = sm.OLS(y_train, x).fit()\n",
    "\n",
    "#view model summary\n",
    "print(model.summary())"
   ]
  },
  {
   "attachments": {},
   "cell_type": "markdown",
   "metadata": {},
   "source": [
    "3. Random Forest"
   ]
  },
  {
   "cell_type": "code",
   "execution_count": 45,
   "metadata": {},
   "outputs": [
    {
     "name": "stderr",
     "output_type": "stream",
     "text": [
      "[Parallel(n_jobs=1)]: Using backend SequentialBackend with 1 concurrent workers.\n",
      "[Parallel(n_jobs=1)]: Done   1 out of   1 | elapsed:    0.0s remaining:    0.0s\n"
     ]
    },
    {
     "name": "stdout",
     "output_type": "stream",
     "text": [
      "building tree 1 of 500\n",
      "building tree 2 of 500\n",
      "building tree 3 of 500\n",
      "building tree 4 of 500\n",
      "building tree 5 of 500\n",
      "building tree 6 of 500\n",
      "building tree 7 of 500\n",
      "building tree 8 of 500\n",
      "building tree 9 of 500\n",
      "building tree 10 of 500\n",
      "building tree 11 of 500\n",
      "building tree 12 of 500\n",
      "building tree 13 of 500\n",
      "building tree 14 of 500\n",
      "building tree 15 of 500\n",
      "building tree 16 of 500\n",
      "building tree 17 of 500\n",
      "building tree 18 of 500\n",
      "building tree 19 of 500\n",
      "building tree 20 of 500\n",
      "building tree 21 of 500\n",
      "building tree 22 of 500\n",
      "building tree 23 of 500\n",
      "building tree 24 of 500\n",
      "building tree 25 of 500\n",
      "building tree 26 of 500\n",
      "building tree 27 of 500\n",
      "building tree 28 of 500\n",
      "building tree 29 of 500\n",
      "building tree 30 of 500\n",
      "building tree 31 of 500\n",
      "building tree 32 of 500\n",
      "building tree 33 of 500\n",
      "building tree 34 of 500\n",
      "building tree 35 of 500\n",
      "building tree 36 of 500\n",
      "building tree 37 of 500\n",
      "building tree 38 of 500\n",
      "building tree 39 of 500\n",
      "building tree 40 of 500\n",
      "building tree 41 of 500\n",
      "building tree 42 of 500\n",
      "building tree 43 of 500\n",
      "building tree 44 of 500\n",
      "building tree 45 of 500\n",
      "building tree 46 of 500\n",
      "building tree 47 of 500\n",
      "building tree 48 of 500\n",
      "building tree 49 of 500\n",
      "building tree 50 of 500\n",
      "building tree 51 of 500\n",
      "building tree 52 of 500\n",
      "building tree 53 of 500\n",
      "building tree 54 of 500\n",
      "building tree 55 of 500\n",
      "building tree 56 of 500\n",
      "building tree 57 of 500\n",
      "building tree 58 of 500\n",
      "building tree 59 of 500\n",
      "building tree 60 of 500\n",
      "building tree 61 of 500\n",
      "building tree 62 of 500\n",
      "building tree 63 of 500\n",
      "building tree 64 of 500\n",
      "building tree 65 of 500\n",
      "building tree 66 of 500\n",
      "building tree 67 of 500\n",
      "building tree 68 of 500\n",
      "building tree 69 of 500\n",
      "building tree 70 of 500\n",
      "building tree 71 of 500\n",
      "building tree 72 of 500\n",
      "building tree 73 of 500\n",
      "building tree 74 of 500\n",
      "building tree 75 of 500\n",
      "building tree 76 of 500\n",
      "building tree 77 of 500\n",
      "building tree 78 of 500\n",
      "building tree 79 of 500\n",
      "building tree 80 of 500\n",
      "building tree 81 of 500\n",
      "building tree 82 of 500\n",
      "building tree 83 of 500\n",
      "building tree 84 of 500\n",
      "building tree 85 of 500\n",
      "building tree 86 of 500\n",
      "building tree 87 of 500\n",
      "building tree 88 of 500\n",
      "building tree 89 of 500\n",
      "building tree 90 of 500\n",
      "building tree 91 of 500\n",
      "building tree 92 of 500\n",
      "building tree 93 of 500\n",
      "building tree 94 of 500\n",
      "building tree 95 of 500\n",
      "building tree 96 of 500\n",
      "building tree 97 of 500\n",
      "building tree 98 of 500\n",
      "building tree 99 of 500\n",
      "building tree 100 of 500\n",
      "building tree 101 of 500\n",
      "building tree 102 of 500\n",
      "building tree 103 of 500\n",
      "building tree 104 of 500\n",
      "building tree 105 of 500\n",
      "building tree 106 of 500\n",
      "building tree 107 of 500\n",
      "building tree 108 of 500\n",
      "building tree 109 of 500\n",
      "building tree 110 of 500\n",
      "building tree 111 of 500\n",
      "building tree 112 of 500\n",
      "building tree 113 of 500\n",
      "building tree 114 of 500\n",
      "building tree 115 of 500\n",
      "building tree 116 of 500\n",
      "building tree 117 of 500\n",
      "building tree 118 of 500\n",
      "building tree 119 of 500\n",
      "building tree 120 of 500\n",
      "building tree 121 of 500\n",
      "building tree 122 of 500\n",
      "building tree 123 of 500\n",
      "building tree 124 of 500\n",
      "building tree 125 of 500\n",
      "building tree 126 of 500\n",
      "building tree 127 of 500\n",
      "building tree 128 of 500\n",
      "building tree 129 of 500\n",
      "building tree 130 of 500\n",
      "building tree 131 of 500\n",
      "building tree 132 of 500\n",
      "building tree 133 of 500\n",
      "building tree 134 of 500\n",
      "building tree 135 of 500\n",
      "building tree 136 of 500\n",
      "building tree 137 of 500\n",
      "building tree 138 of 500\n",
      "building tree 139 of 500\n",
      "building tree 140 of 500\n",
      "building tree 141 of 500\n",
      "building tree 142 of 500\n",
      "building tree 143 of 500\n",
      "building tree 144 of 500\n",
      "building tree 145 of 500\n",
      "building tree 146 of 500\n",
      "building tree 147 of 500\n",
      "building tree 148 of 500\n",
      "building tree 149 of 500\n",
      "building tree 150 of 500\n",
      "building tree 151 of 500\n",
      "building tree 152 of 500\n",
      "building tree 153 of 500\n",
      "building tree 154 of 500\n",
      "building tree 155 of 500\n",
      "building tree 156 of 500\n",
      "building tree 157 of 500\n",
      "building tree 158 of 500\n",
      "building tree 159 of 500\n",
      "building tree 160 of 500\n",
      "building tree 161 of 500\n",
      "building tree 162 of 500\n",
      "building tree 163 of 500\n",
      "building tree 164 of 500\n",
      "building tree 165 of 500\n",
      "building tree 166 of 500\n",
      "building tree 167 of 500\n",
      "building tree 168 of 500\n",
      "building tree 169 of 500\n",
      "building tree 170 of 500\n",
      "building tree 171 of 500\n",
      "building tree 172 of 500\n",
      "building tree 173 of 500\n",
      "building tree 174 of 500\n",
      "building tree 175 of 500\n",
      "building tree 176 of 500\n",
      "building tree 177 of 500\n",
      "building tree 178 of 500\n",
      "building tree 179 of 500\n",
      "building tree 180 of 500\n",
      "building tree 181 of 500\n",
      "building tree 182 of 500\n",
      "building tree 183 of 500\n",
      "building tree 184 of 500\n",
      "building tree 185 of 500\n",
      "building tree 186 of 500\n",
      "building tree 187 of 500\n",
      "building tree 188 of 500\n",
      "building tree 189 of 500\n",
      "building tree 190 of 500\n",
      "building tree 191 of 500\n",
      "building tree 192 of 500\n",
      "building tree 193 of 500\n",
      "building tree 194 of 500\n",
      "building tree 195 of 500\n",
      "building tree 196 of 500\n",
      "building tree 197 of 500\n",
      "building tree 198 of 500\n",
      "building tree 199 of 500\n",
      "building tree 200 of 500\n",
      "building tree 201 of 500\n",
      "building tree 202 of 500\n",
      "building tree 203 of 500\n",
      "building tree 204 of 500\n",
      "building tree 205 of 500\n",
      "building tree 206 of 500\n",
      "building tree 207 of 500\n",
      "building tree 208 of 500\n",
      "building tree 209 of 500\n",
      "building tree 210 of 500\n",
      "building tree 211 of 500\n",
      "building tree 212 of 500\n",
      "building tree 213 of 500\n",
      "building tree 214 of 500\n",
      "building tree 215 of 500\n",
      "building tree 216 of 500\n",
      "building tree 217 of 500\n",
      "building tree 218 of 500\n",
      "building tree 219 of 500\n",
      "building tree 220 of 500\n",
      "building tree 221 of 500\n",
      "building tree 222 of 500\n",
      "building tree 223 of 500\n",
      "building tree 224 of 500\n",
      "building tree 225 of 500\n",
      "building tree 226 of 500\n",
      "building tree 227 of 500\n",
      "building tree 228 of 500\n",
      "building tree 229 of 500\n",
      "building tree 230 of 500\n",
      "building tree 231 of 500\n",
      "building tree 232 of 500\n",
      "building tree 233 of 500\n",
      "building tree 234 of 500\n",
      "building tree 235 of 500\n",
      "building tree 236 of 500\n",
      "building tree 237 of 500\n",
      "building tree 238 of 500\n",
      "building tree 239 of 500\n",
      "building tree 240 of 500\n",
      "building tree 241 of 500\n",
      "building tree 242 of 500\n",
      "building tree 243 of 500\n",
      "building tree 244 of 500\n",
      "building tree 245 of 500\n",
      "building tree 246 of 500\n",
      "building tree 247 of 500\n",
      "building tree 248 of 500\n",
      "building tree 249 of 500\n",
      "building tree 250 of 500\n",
      "building tree 251 of 500\n",
      "building tree 252 of 500\n",
      "building tree 253 of 500\n",
      "building tree 254 of 500\n",
      "building tree 255 of 500\n",
      "building tree 256 of 500\n",
      "building tree 257 of 500\n",
      "building tree 258 of 500\n",
      "building tree 259 of 500\n",
      "building tree 260 of 500\n",
      "building tree 261 of 500\n",
      "building tree 262 of 500\n",
      "building tree 263 of 500\n",
      "building tree 264 of 500\n",
      "building tree 265 of 500\n",
      "building tree 266 of 500\n",
      "building tree 267 of 500\n",
      "building tree 268 of 500\n",
      "building tree 269 of 500\n",
      "building tree 270 of 500\n",
      "building tree 271 of 500\n",
      "building tree 272 of 500\n",
      "building tree 273 of 500\n",
      "building tree 274 of 500\n",
      "building tree 275 of 500\n",
      "building tree 276 of 500\n",
      "building tree 277 of 500\n",
      "building tree 278 of 500\n",
      "building tree 279 of 500\n",
      "building tree 280 of 500\n",
      "building tree 281 of 500\n",
      "building tree 282 of 500\n",
      "building tree 283 of 500\n",
      "building tree 284 of 500\n",
      "building tree 285 of 500\n",
      "building tree 286 of 500\n",
      "building tree 287 of 500\n",
      "building tree 288 of 500\n",
      "building tree 289 of 500\n",
      "building tree 290 of 500\n",
      "building tree 291 of 500\n",
      "building tree 292 of 500\n",
      "building tree 293 of 500\n",
      "building tree 294 of 500\n",
      "building tree 295 of 500\n",
      "building tree 296 of 500\n",
      "building tree 297 of 500\n",
      "building tree 298 of 500\n",
      "building tree 299 of 500\n",
      "building tree 300 of 500\n",
      "building tree 301 of 500\n",
      "building tree 302 of 500\n",
      "building tree 303 of 500\n",
      "building tree 304 of 500\n",
      "building tree 305 of 500\n",
      "building tree 306 of 500\n",
      "building tree 307 of 500\n",
      "building tree 308 of 500\n",
      "building tree 309 of 500\n",
      "building tree 310 of 500\n",
      "building tree 311 of 500\n",
      "building tree 312 of 500\n",
      "building tree 313 of 500\n",
      "building tree 314 of 500\n",
      "building tree 315 of 500\n",
      "building tree 316 of 500\n",
      "building tree 317 of 500\n",
      "building tree 318 of 500\n",
      "building tree 319 of 500\n",
      "building tree 320 of 500\n",
      "building tree 321 of 500\n",
      "building tree 322 of 500\n",
      "building tree 323 of 500\n",
      "building tree 324 of 500\n",
      "building tree 325 of 500\n",
      "building tree 326 of 500\n",
      "building tree 327 of 500\n",
      "building tree 328 of 500\n",
      "building tree 329 of 500\n",
      "building tree 330 of 500\n",
      "building tree 331 of 500\n",
      "building tree 332 of 500\n",
      "building tree 333 of 500\n",
      "building tree 334 of 500\n",
      "building tree 335 of 500\n",
      "building tree 336 of 500\n",
      "building tree 337 of 500\n",
      "building tree 338 of 500\n",
      "building tree 339 of 500\n",
      "building tree 340 of 500\n",
      "building tree 341 of 500\n",
      "building tree 342 of 500\n",
      "building tree 343 of 500\n",
      "building tree 344 of 500\n",
      "building tree 345 of 500\n",
      "building tree 346 of 500\n",
      "building tree 347 of 500\n",
      "building tree 348 of 500\n",
      "building tree 349 of 500\n",
      "building tree 350 of 500\n",
      "building tree 351 of 500\n",
      "building tree 352 of 500\n",
      "building tree 353 of 500\n",
      "building tree 354 of 500\n",
      "building tree 355 of 500\n",
      "building tree 356 of 500\n",
      "building tree 357 of 500\n",
      "building tree 358 of 500\n",
      "building tree 359 of 500\n",
      "building tree 360 of 500\n",
      "building tree 361 of 500\n",
      "building tree 362 of 500\n",
      "building tree 363 of 500\n",
      "building tree 364 of 500\n",
      "building tree 365 of 500\n",
      "building tree 366 of 500\n",
      "building tree 367 of 500\n",
      "building tree 368 of 500\n",
      "building tree 369 of 500\n",
      "building tree 370 of 500\n",
      "building tree 371 of 500\n",
      "building tree 372 of 500\n",
      "building tree 373 of 500\n",
      "building tree 374 of 500\n",
      "building tree 375 of 500\n",
      "building tree 376 of 500\n",
      "building tree 377 of 500\n",
      "building tree 378 of 500\n",
      "building tree 379 of 500\n",
      "building tree 380 of 500\n",
      "building tree 381 of 500\n",
      "building tree 382 of 500\n",
      "building tree 383 of 500\n",
      "building tree 384 of 500\n",
      "building tree 385 of 500\n",
      "building tree 386 of 500\n",
      "building tree 387 of 500\n",
      "building tree 388 of 500\n",
      "building tree 389 of 500\n",
      "building tree 390 of 500\n",
      "building tree 391 of 500\n",
      "building tree 392 of 500\n",
      "building tree 393 of 500\n",
      "building tree 394 of 500\n",
      "building tree 395 of 500\n",
      "building tree 396 of 500\n",
      "building tree 397 of 500\n",
      "building tree 398 of 500\n",
      "building tree 399 of 500\n",
      "building tree 400 of 500\n",
      "building tree 401 of 500\n",
      "building tree 402 of 500\n",
      "building tree 403 of 500\n",
      "building tree 404 of 500\n",
      "building tree 405 of 500\n",
      "building tree 406 of 500\n",
      "building tree 407 of 500\n",
      "building tree 408 of 500\n",
      "building tree 409 of 500\n",
      "building tree 410 of 500\n",
      "building tree 411 of 500\n",
      "building tree 412 of 500\n",
      "building tree 413 of 500\n",
      "building tree 414 of 500\n",
      "building tree 415 of 500\n",
      "building tree 416 of 500\n",
      "building tree 417 of 500\n",
      "building tree 418 of 500\n",
      "building tree 419 of 500\n",
      "building tree 420 of 500\n",
      "building tree 421 of 500\n",
      "building tree 422 of 500\n",
      "building tree 423 of 500\n",
      "building tree 424 of 500\n",
      "building tree 425 of 500\n",
      "building tree 426 of 500\n",
      "building tree 427 of 500\n",
      "building tree 428 of 500\n",
      "building tree 429 of 500\n",
      "building tree 430 of 500\n",
      "building tree 431 of 500\n",
      "building tree 432 of 500\n",
      "building tree 433 of 500\n",
      "building tree 434 of 500\n",
      "building tree 435 of 500\n",
      "building tree 436 of 500\n",
      "building tree 437 of 500\n",
      "building tree 438 of 500\n",
      "building tree 439 of 500\n",
      "building tree 440 of 500\n",
      "building tree 441 of 500\n",
      "building tree 442 of 500\n",
      "building tree 443 of 500\n",
      "building tree 444 of 500\n",
      "building tree 445 of 500\n",
      "building tree 446 of 500\n",
      "building tree 447 of 500\n",
      "building tree 448 of 500\n",
      "building tree 449 of 500\n",
      "building tree 450 of 500\n",
      "building tree 451 of 500\n",
      "building tree 452 of 500\n",
      "building tree 453 of 500\n",
      "building tree 454 of 500\n",
      "building tree 455 of 500\n",
      "building tree 456 of 500\n",
      "building tree 457 of 500\n",
      "building tree 458 of 500\n",
      "building tree 459 of 500\n",
      "building tree 460 of 500\n",
      "building tree 461 of 500\n",
      "building tree 462 of 500\n",
      "building tree 463 of 500\n",
      "building tree 464 of 500\n",
      "building tree 465 of 500\n",
      "building tree 466 of 500\n",
      "building tree 467 of 500\n",
      "building tree 468 of 500\n",
      "building tree 469 of 500\n",
      "building tree 470 of 500\n",
      "building tree 471 of 500\n",
      "building tree 472 of 500\n",
      "building tree 473 of 500\n",
      "building tree 474 of 500\n",
      "building tree 475 of 500\n",
      "building tree 476 of 500\n",
      "building tree 477 of 500\n",
      "building tree 478 of 500\n",
      "building tree 479 of 500\n",
      "building tree 480 of 500\n",
      "building tree 481 of 500\n",
      "building tree 482 of 500\n",
      "building tree 483 of 500\n",
      "building tree 484 of 500\n",
      "building tree 485 of 500\n",
      "building tree 486 of 500\n",
      "building tree 487 of 500\n",
      "building tree 488 of 500\n",
      "building tree 489 of 500\n",
      "building tree 490 of 500\n",
      "building tree 491 of 500\n",
      "building tree 492 of 500\n",
      "building tree 493 of 500\n",
      "building tree 494 of 500\n",
      "building tree 495 of 500\n",
      "building tree 496 of 500\n",
      "building tree 497 of 500\n",
      "building tree 498 of 500\n",
      "building tree 499 of 500\n",
      "building tree 500 of 500\n"
     ]
    },
    {
     "name": "stderr",
     "output_type": "stream",
     "text": [
      "[Parallel(n_jobs=1)]: Done 500 out of 500 | elapsed:    2.6s finished\n"
     ]
    },
    {
     "data": {
      "text/html": [
       "<style>#sk-container-id-5 {color: black;background-color: white;}#sk-container-id-5 pre{padding: 0;}#sk-container-id-5 div.sk-toggleable {background-color: white;}#sk-container-id-5 label.sk-toggleable__label {cursor: pointer;display: block;width: 100%;margin-bottom: 0;padding: 0.3em;box-sizing: border-box;text-align: center;}#sk-container-id-5 label.sk-toggleable__label-arrow:before {content: \"▸\";float: left;margin-right: 0.25em;color: #696969;}#sk-container-id-5 label.sk-toggleable__label-arrow:hover:before {color: black;}#sk-container-id-5 div.sk-estimator:hover label.sk-toggleable__label-arrow:before {color: black;}#sk-container-id-5 div.sk-toggleable__content {max-height: 0;max-width: 0;overflow: hidden;text-align: left;background-color: #f0f8ff;}#sk-container-id-5 div.sk-toggleable__content pre {margin: 0.2em;color: black;border-radius: 0.25em;background-color: #f0f8ff;}#sk-container-id-5 input.sk-toggleable__control:checked~div.sk-toggleable__content {max-height: 200px;max-width: 100%;overflow: auto;}#sk-container-id-5 input.sk-toggleable__control:checked~label.sk-toggleable__label-arrow:before {content: \"▾\";}#sk-container-id-5 div.sk-estimator input.sk-toggleable__control:checked~label.sk-toggleable__label {background-color: #d4ebff;}#sk-container-id-5 div.sk-label input.sk-toggleable__control:checked~label.sk-toggleable__label {background-color: #d4ebff;}#sk-container-id-5 input.sk-hidden--visually {border: 0;clip: rect(1px 1px 1px 1px);clip: rect(1px, 1px, 1px, 1px);height: 1px;margin: -1px;overflow: hidden;padding: 0;position: absolute;width: 1px;}#sk-container-id-5 div.sk-estimator {font-family: monospace;background-color: #f0f8ff;border: 1px dotted black;border-radius: 0.25em;box-sizing: border-box;margin-bottom: 0.5em;}#sk-container-id-5 div.sk-estimator:hover {background-color: #d4ebff;}#sk-container-id-5 div.sk-parallel-item::after {content: \"\";width: 100%;border-bottom: 1px solid gray;flex-grow: 1;}#sk-container-id-5 div.sk-label:hover label.sk-toggleable__label {background-color: #d4ebff;}#sk-container-id-5 div.sk-serial::before {content: \"\";position: absolute;border-left: 1px solid gray;box-sizing: border-box;top: 0;bottom: 0;left: 50%;z-index: 0;}#sk-container-id-5 div.sk-serial {display: flex;flex-direction: column;align-items: center;background-color: white;padding-right: 0.2em;padding-left: 0.2em;position: relative;}#sk-container-id-5 div.sk-item {position: relative;z-index: 1;}#sk-container-id-5 div.sk-parallel {display: flex;align-items: stretch;justify-content: center;background-color: white;position: relative;}#sk-container-id-5 div.sk-item::before, #sk-container-id-5 div.sk-parallel-item::before {content: \"\";position: absolute;border-left: 1px solid gray;box-sizing: border-box;top: 0;bottom: 0;left: 50%;z-index: -1;}#sk-container-id-5 div.sk-parallel-item {display: flex;flex-direction: column;z-index: 1;position: relative;background-color: white;}#sk-container-id-5 div.sk-parallel-item:first-child::after {align-self: flex-end;width: 50%;}#sk-container-id-5 div.sk-parallel-item:last-child::after {align-self: flex-start;width: 50%;}#sk-container-id-5 div.sk-parallel-item:only-child::after {width: 0;}#sk-container-id-5 div.sk-dashed-wrapped {border: 1px dashed gray;margin: 0 0.4em 0.5em 0.4em;box-sizing: border-box;padding-bottom: 0.4em;background-color: white;}#sk-container-id-5 div.sk-label label {font-family: monospace;font-weight: bold;display: inline-block;line-height: 1.2em;}#sk-container-id-5 div.sk-label-container {text-align: center;}#sk-container-id-5 div.sk-container {/* jupyter's `normalize.less` sets `[hidden] { display: none; }` but bootstrap.min.css set `[hidden] { display: none !important; }` so we also need the `!important` here to be able to override the default hidden behavior on the sphinx rendered scikit-learn.org. See: https://github.com/scikit-learn/scikit-learn/issues/21755 */display: inline-block !important;position: relative;}#sk-container-id-5 div.sk-text-repr-fallback {display: none;}</style><div id=\"sk-container-id-5\" class=\"sk-top-container\"><div class=\"sk-text-repr-fallback\"><pre>RandomForestRegressor(max_features=5, min_samples_leaf=5, n_estimators=500,\n",
       "                      random_state=88, verbose=2)</pre><b>In a Jupyter environment, please rerun this cell to show the HTML representation or trust the notebook. <br />On GitHub, the HTML representation is unable to render, please try loading this page with nbviewer.org.</b></div><div class=\"sk-container\" hidden><div class=\"sk-item\"><div class=\"sk-estimator sk-toggleable\"><input class=\"sk-toggleable__control sk-hidden--visually\" id=\"sk-estimator-id-7\" type=\"checkbox\" checked><label for=\"sk-estimator-id-7\" class=\"sk-toggleable__label sk-toggleable__label-arrow\">RandomForestRegressor</label><div class=\"sk-toggleable__content\"><pre>RandomForestRegressor(max_features=5, min_samples_leaf=5, n_estimators=500,\n",
       "                      random_state=88, verbose=2)</pre></div></div></div></div></div>"
      ],
      "text/plain": [
       "RandomForestRegressor(max_features=5, min_samples_leaf=5, n_estimators=500,\n",
       "                      random_state=88, verbose=2)"
      ]
     },
     "execution_count": 45,
     "metadata": {},
     "output_type": "execute_result"
    }
   ],
   "source": [
    "from sklearn.ensemble import RandomForestRegressor\n",
    "\n",
    "rf = RandomForestRegressor(max_features=5, min_samples_leaf=5, \n",
    "                           n_estimators = 500, random_state=88, verbose=2)\n",
    "# Note: you can change the verbose parameter to control how much training progress is printed.\n",
    "rf.fit(X_train, y_train)"
   ]
  },
  {
   "cell_type": "code",
   "execution_count": 52,
   "metadata": {},
   "outputs": [],
   "source": [
    "test_pred_rf = rf.predict(X_test)"
   ]
  },
  {
   "cell_type": "code",
   "execution_count": 114,
   "metadata": {},
   "outputs": [
    {
     "name": "stdout",
     "output_type": "stream",
     "text": [
      "Test RMSE:  500.076526074265\n",
      "Test MAE:  266.8344684706165\n",
      "Test OSR2:  0.46010074718420735\n"
     ]
    }
   ],
   "source": [
    "rf.verbose = False\n",
    "test_rmse_rf = np.sqrt(mean_squared_error(y_test, test_pred_rf))\n",
    "print('Test RMSE: ', test_rmse_rf)\n",
    "test_mae_rf = mean_absolute_error(y_test, test_pred_rf)\n",
    "print('Test MAE: ', test_mae_rf)\n",
    "test_or2_rf = OSR2(rf, X_test, y_test, y_train)\n",
    "print('Test OSR2: ', test_or2_rf)"
   ]
  },
  {
   "attachments": {},
   "cell_type": "markdown",
   "metadata": {},
   "source": [
    "3.2 RF with CV"
   ]
  },
  {
   "cell_type": "code",
   "execution_count": 66,
   "metadata": {},
   "outputs": [
    {
     "name": "stdout",
     "output_type": "stream",
     "text": [
      "Fitting 5 folds for each of 24 candidates, totalling 120 fits\n",
      "[CV] END max_features=16, min_samples_leaf=5, n_estimators=500, random_state=88; total time=   4.5s\n",
      "[CV] END max_features=16, min_samples_leaf=5, n_estimators=500, random_state=88; total time=   3.6s\n",
      "[CV] END max_features=16, min_samples_leaf=5, n_estimators=500, random_state=88; total time=   3.2s\n",
      "[CV] END max_features=16, min_samples_leaf=5, n_estimators=500, random_state=88; total time=   3.3s\n",
      "[CV] END max_features=16, min_samples_leaf=5, n_estimators=500, random_state=88; total time=   3.1s\n",
      "[CV] END max_features=17, min_samples_leaf=5, n_estimators=500, random_state=88; total time=   3.3s\n",
      "[CV] END max_features=17, min_samples_leaf=5, n_estimators=500, random_state=88; total time=   3.3s\n",
      "[CV] END max_features=17, min_samples_leaf=5, n_estimators=500, random_state=88; total time=   3.4s\n",
      "[CV] END max_features=17, min_samples_leaf=5, n_estimators=500, random_state=88; total time=   3.4s\n",
      "[CV] END max_features=17, min_samples_leaf=5, n_estimators=500, random_state=88; total time=   3.3s\n",
      "[CV] END max_features=18, min_samples_leaf=5, n_estimators=500, random_state=88; total time=   3.6s\n",
      "[CV] END max_features=18, min_samples_leaf=5, n_estimators=500, random_state=88; total time=   3.6s\n",
      "[CV] END max_features=18, min_samples_leaf=5, n_estimators=500, random_state=88; total time=   3.6s\n",
      "[CV] END max_features=18, min_samples_leaf=5, n_estimators=500, random_state=88; total time=   3.4s\n",
      "[CV] END max_features=18, min_samples_leaf=5, n_estimators=500, random_state=88; total time=   3.4s\n",
      "[CV] END max_features=19, min_samples_leaf=5, n_estimators=500, random_state=88; total time=   3.5s\n",
      "[CV] END max_features=19, min_samples_leaf=5, n_estimators=500, random_state=88; total time=   3.5s\n",
      "[CV] END max_features=19, min_samples_leaf=5, n_estimators=500, random_state=88; total time=   3.7s\n",
      "[CV] END max_features=19, min_samples_leaf=5, n_estimators=500, random_state=88; total time=   3.6s\n",
      "[CV] END max_features=19, min_samples_leaf=5, n_estimators=500, random_state=88; total time=   3.5s\n",
      "[CV] END max_features=20, min_samples_leaf=5, n_estimators=500, random_state=88; total time=   3.8s\n",
      "[CV] END max_features=20, min_samples_leaf=5, n_estimators=500, random_state=88; total time=   3.7s\n",
      "[CV] END max_features=20, min_samples_leaf=5, n_estimators=500, random_state=88; total time=   3.7s\n",
      "[CV] END max_features=20, min_samples_leaf=5, n_estimators=500, random_state=88; total time=   3.6s\n",
      "[CV] END max_features=20, min_samples_leaf=5, n_estimators=500, random_state=88; total time=   3.6s\n",
      "[CV] END max_features=21, min_samples_leaf=5, n_estimators=500, random_state=88; total time=   4.1s\n",
      "[CV] END max_features=21, min_samples_leaf=5, n_estimators=500, random_state=88; total time=   4.6s\n",
      "[CV] END max_features=21, min_samples_leaf=5, n_estimators=500, random_state=88; total time=   4.6s\n",
      "[CV] END max_features=21, min_samples_leaf=5, n_estimators=500, random_state=88; total time=   4.9s\n",
      "[CV] END max_features=21, min_samples_leaf=5, n_estimators=500, random_state=88; total time=   4.8s\n",
      "[CV] END max_features=22, min_samples_leaf=5, n_estimators=500, random_state=88; total time=   4.7s\n",
      "[CV] END max_features=22, min_samples_leaf=5, n_estimators=500, random_state=88; total time=   4.5s\n",
      "[CV] END max_features=22, min_samples_leaf=5, n_estimators=500, random_state=88; total time=   4.6s\n",
      "[CV] END max_features=22, min_samples_leaf=5, n_estimators=500, random_state=88; total time=   5.0s\n",
      "[CV] END max_features=22, min_samples_leaf=5, n_estimators=500, random_state=88; total time=   4.7s\n",
      "[CV] END max_features=23, min_samples_leaf=5, n_estimators=500, random_state=88; total time=   4.7s\n",
      "[CV] END max_features=23, min_samples_leaf=5, n_estimators=500, random_state=88; total time=   4.7s\n",
      "[CV] END max_features=23, min_samples_leaf=5, n_estimators=500, random_state=88; total time=   4.8s\n",
      "[CV] END max_features=23, min_samples_leaf=5, n_estimators=500, random_state=88; total time=   4.9s\n",
      "[CV] END max_features=23, min_samples_leaf=5, n_estimators=500, random_state=88; total time=   4.7s\n",
      "[CV] END max_features=24, min_samples_leaf=5, n_estimators=500, random_state=88; total time=   4.9s\n",
      "[CV] END max_features=24, min_samples_leaf=5, n_estimators=500, random_state=88; total time=   4.9s\n",
      "[CV] END max_features=24, min_samples_leaf=5, n_estimators=500, random_state=88; total time=   4.9s\n",
      "[CV] END max_features=24, min_samples_leaf=5, n_estimators=500, random_state=88; total time=   4.9s\n",
      "[CV] END max_features=24, min_samples_leaf=5, n_estimators=500, random_state=88; total time=   4.8s\n",
      "[CV] END max_features=25, min_samples_leaf=5, n_estimators=500, random_state=88; total time=   5.0s\n",
      "[CV] END max_features=25, min_samples_leaf=5, n_estimators=500, random_state=88; total time=   5.0s\n",
      "[CV] END max_features=25, min_samples_leaf=5, n_estimators=500, random_state=88; total time=   5.1s\n",
      "[CV] END max_features=25, min_samples_leaf=5, n_estimators=500, random_state=88; total time=   5.1s\n",
      "[CV] END max_features=25, min_samples_leaf=5, n_estimators=500, random_state=88; total time=   4.9s\n",
      "[CV] END max_features=26, min_samples_leaf=5, n_estimators=500, random_state=88; total time=   5.4s\n",
      "[CV] END max_features=26, min_samples_leaf=5, n_estimators=500, random_state=88; total time=   5.2s\n",
      "[CV] END max_features=26, min_samples_leaf=5, n_estimators=500, random_state=88; total time=   5.1s\n",
      "[CV] END max_features=26, min_samples_leaf=5, n_estimators=500, random_state=88; total time=   5.1s\n",
      "[CV] END max_features=26, min_samples_leaf=5, n_estimators=500, random_state=88; total time=   5.2s\n",
      "[CV] END max_features=27, min_samples_leaf=5, n_estimators=500, random_state=88; total time=   5.3s\n",
      "[CV] END max_features=27, min_samples_leaf=5, n_estimators=500, random_state=88; total time=   5.3s\n",
      "[CV] END max_features=27, min_samples_leaf=5, n_estimators=500, random_state=88; total time=   5.3s\n",
      "[CV] END max_features=27, min_samples_leaf=5, n_estimators=500, random_state=88; total time=   5.3s\n",
      "[CV] END max_features=27, min_samples_leaf=5, n_estimators=500, random_state=88; total time=   5.3s\n",
      "[CV] END max_features=28, min_samples_leaf=5, n_estimators=500, random_state=88; total time=   5.5s\n",
      "[CV] END max_features=28, min_samples_leaf=5, n_estimators=500, random_state=88; total time=   5.5s\n",
      "[CV] END max_features=28, min_samples_leaf=5, n_estimators=500, random_state=88; total time=   5.4s\n",
      "[CV] END max_features=28, min_samples_leaf=5, n_estimators=500, random_state=88; total time=   5.4s\n",
      "[CV] END max_features=28, min_samples_leaf=5, n_estimators=500, random_state=88; total time=   5.4s\n",
      "[CV] END max_features=29, min_samples_leaf=5, n_estimators=500, random_state=88; total time=   5.7s\n",
      "[CV] END max_features=29, min_samples_leaf=5, n_estimators=500, random_state=88; total time=   5.6s\n",
      "[CV] END max_features=29, min_samples_leaf=5, n_estimators=500, random_state=88; total time=   5.7s\n",
      "[CV] END max_features=29, min_samples_leaf=5, n_estimators=500, random_state=88; total time=   5.6s\n",
      "[CV] END max_features=29, min_samples_leaf=5, n_estimators=500, random_state=88; total time=   5.6s\n",
      "[CV] END max_features=30, min_samples_leaf=5, n_estimators=500, random_state=88; total time=   5.7s\n",
      "[CV] END max_features=30, min_samples_leaf=5, n_estimators=500, random_state=88; total time=   5.7s\n",
      "[CV] END max_features=30, min_samples_leaf=5, n_estimators=500, random_state=88; total time=   5.7s\n",
      "[CV] END max_features=30, min_samples_leaf=5, n_estimators=500, random_state=88; total time=   5.8s\n",
      "[CV] END max_features=30, min_samples_leaf=5, n_estimators=500, random_state=88; total time=   5.6s\n",
      "[CV] END max_features=31, min_samples_leaf=5, n_estimators=500, random_state=88; total time=   5.9s\n",
      "[CV] END max_features=31, min_samples_leaf=5, n_estimators=500, random_state=88; total time=   5.9s\n",
      "[CV] END max_features=31, min_samples_leaf=5, n_estimators=500, random_state=88; total time=   5.9s\n",
      "[CV] END max_features=31, min_samples_leaf=5, n_estimators=500, random_state=88; total time=   5.9s\n",
      "[CV] END max_features=31, min_samples_leaf=5, n_estimators=500, random_state=88; total time=   5.8s\n",
      "[CV] END max_features=32, min_samples_leaf=5, n_estimators=500, random_state=88; total time=   6.1s\n",
      "[CV] END max_features=32, min_samples_leaf=5, n_estimators=500, random_state=88; total time=   6.0s\n",
      "[CV] END max_features=32, min_samples_leaf=5, n_estimators=500, random_state=88; total time=   6.0s\n",
      "[CV] END max_features=32, min_samples_leaf=5, n_estimators=500, random_state=88; total time=   6.1s\n",
      "[CV] END max_features=32, min_samples_leaf=5, n_estimators=500, random_state=88; total time=   6.0s\n",
      "[CV] END max_features=33, min_samples_leaf=5, n_estimators=500, random_state=88; total time=   6.2s\n",
      "[CV] END max_features=33, min_samples_leaf=5, n_estimators=500, random_state=88; total time=   6.2s\n",
      "[CV] END max_features=33, min_samples_leaf=5, n_estimators=500, random_state=88; total time=   6.2s\n",
      "[CV] END max_features=33, min_samples_leaf=5, n_estimators=500, random_state=88; total time=   6.2s\n",
      "[CV] END max_features=33, min_samples_leaf=5, n_estimators=500, random_state=88; total time=   6.1s\n",
      "[CV] END max_features=34, min_samples_leaf=5, n_estimators=500, random_state=88; total time=   6.4s\n",
      "[CV] END max_features=34, min_samples_leaf=5, n_estimators=500, random_state=88; total time=   6.2s\n",
      "[CV] END max_features=34, min_samples_leaf=5, n_estimators=500, random_state=88; total time=   6.3s\n",
      "[CV] END max_features=34, min_samples_leaf=5, n_estimators=500, random_state=88; total time=   6.3s\n",
      "[CV] END max_features=34, min_samples_leaf=5, n_estimators=500, random_state=88; total time=   6.3s\n",
      "[CV] END max_features=35, min_samples_leaf=5, n_estimators=500, random_state=88; total time=   6.4s\n",
      "[CV] END max_features=35, min_samples_leaf=5, n_estimators=500, random_state=88; total time=   6.5s\n",
      "[CV] END max_features=35, min_samples_leaf=5, n_estimators=500, random_state=88; total time=   6.4s\n",
      "[CV] END max_features=35, min_samples_leaf=5, n_estimators=500, random_state=88; total time=   6.5s\n",
      "[CV] END max_features=35, min_samples_leaf=5, n_estimators=500, random_state=88; total time=   6.4s\n",
      "[CV] END max_features=36, min_samples_leaf=5, n_estimators=500, random_state=88; total time=   6.5s\n",
      "[CV] END max_features=36, min_samples_leaf=5, n_estimators=500, random_state=88; total time=   6.6s\n",
      "[CV] END max_features=36, min_samples_leaf=5, n_estimators=500, random_state=88; total time=   6.5s\n",
      "[CV] END max_features=36, min_samples_leaf=5, n_estimators=500, random_state=88; total time=   6.6s\n",
      "[CV] END max_features=36, min_samples_leaf=5, n_estimators=500, random_state=88; total time=   6.5s\n",
      "[CV] END max_features=37, min_samples_leaf=5, n_estimators=500, random_state=88; total time=   6.7s\n",
      "[CV] END max_features=37, min_samples_leaf=5, n_estimators=500, random_state=88; total time=   6.7s\n",
      "[CV] END max_features=37, min_samples_leaf=5, n_estimators=500, random_state=88; total time=   6.7s\n",
      "[CV] END max_features=37, min_samples_leaf=5, n_estimators=500, random_state=88; total time=   6.7s\n",
      "[CV] END max_features=37, min_samples_leaf=5, n_estimators=500, random_state=88; total time=   6.6s\n",
      "[CV] END max_features=38, min_samples_leaf=5, n_estimators=500, random_state=88; total time=   6.8s\n",
      "[CV] END max_features=38, min_samples_leaf=5, n_estimators=500, random_state=88; total time=   6.8s\n",
      "[CV] END max_features=38, min_samples_leaf=5, n_estimators=500, random_state=88; total time=   6.8s\n",
      "[CV] END max_features=38, min_samples_leaf=5, n_estimators=500, random_state=88; total time=   6.8s\n",
      "[CV] END max_features=38, min_samples_leaf=5, n_estimators=500, random_state=88; total time=   7.0s\n",
      "[CV] END max_features=40, min_samples_leaf=5, n_estimators=500, random_state=88; total time=   7.2s\n",
      "[CV] END max_features=40, min_samples_leaf=5, n_estimators=500, random_state=88; total time=   7.2s\n",
      "[CV] END max_features=40, min_samples_leaf=5, n_estimators=500, random_state=88; total time=   7.2s\n",
      "[CV] END max_features=40, min_samples_leaf=5, n_estimators=500, random_state=88; total time=   7.2s\n",
      "[CV] END max_features=40, min_samples_leaf=5, n_estimators=500, random_state=88; total time=   7.2s\n"
     ]
    },
    {
     "data": {
      "text/html": [
       "<style>#sk-container-id-6 {color: black;background-color: white;}#sk-container-id-6 pre{padding: 0;}#sk-container-id-6 div.sk-toggleable {background-color: white;}#sk-container-id-6 label.sk-toggleable__label {cursor: pointer;display: block;width: 100%;margin-bottom: 0;padding: 0.3em;box-sizing: border-box;text-align: center;}#sk-container-id-6 label.sk-toggleable__label-arrow:before {content: \"▸\";float: left;margin-right: 0.25em;color: #696969;}#sk-container-id-6 label.sk-toggleable__label-arrow:hover:before {color: black;}#sk-container-id-6 div.sk-estimator:hover label.sk-toggleable__label-arrow:before {color: black;}#sk-container-id-6 div.sk-toggleable__content {max-height: 0;max-width: 0;overflow: hidden;text-align: left;background-color: #f0f8ff;}#sk-container-id-6 div.sk-toggleable__content pre {margin: 0.2em;color: black;border-radius: 0.25em;background-color: #f0f8ff;}#sk-container-id-6 input.sk-toggleable__control:checked~div.sk-toggleable__content {max-height: 200px;max-width: 100%;overflow: auto;}#sk-container-id-6 input.sk-toggleable__control:checked~label.sk-toggleable__label-arrow:before {content: \"▾\";}#sk-container-id-6 div.sk-estimator input.sk-toggleable__control:checked~label.sk-toggleable__label {background-color: #d4ebff;}#sk-container-id-6 div.sk-label input.sk-toggleable__control:checked~label.sk-toggleable__label {background-color: #d4ebff;}#sk-container-id-6 input.sk-hidden--visually {border: 0;clip: rect(1px 1px 1px 1px);clip: rect(1px, 1px, 1px, 1px);height: 1px;margin: -1px;overflow: hidden;padding: 0;position: absolute;width: 1px;}#sk-container-id-6 div.sk-estimator {font-family: monospace;background-color: #f0f8ff;border: 1px dotted black;border-radius: 0.25em;box-sizing: border-box;margin-bottom: 0.5em;}#sk-container-id-6 div.sk-estimator:hover {background-color: #d4ebff;}#sk-container-id-6 div.sk-parallel-item::after {content: \"\";width: 100%;border-bottom: 1px solid gray;flex-grow: 1;}#sk-container-id-6 div.sk-label:hover label.sk-toggleable__label {background-color: #d4ebff;}#sk-container-id-6 div.sk-serial::before {content: \"\";position: absolute;border-left: 1px solid gray;box-sizing: border-box;top: 0;bottom: 0;left: 50%;z-index: 0;}#sk-container-id-6 div.sk-serial {display: flex;flex-direction: column;align-items: center;background-color: white;padding-right: 0.2em;padding-left: 0.2em;position: relative;}#sk-container-id-6 div.sk-item {position: relative;z-index: 1;}#sk-container-id-6 div.sk-parallel {display: flex;align-items: stretch;justify-content: center;background-color: white;position: relative;}#sk-container-id-6 div.sk-item::before, #sk-container-id-6 div.sk-parallel-item::before {content: \"\";position: absolute;border-left: 1px solid gray;box-sizing: border-box;top: 0;bottom: 0;left: 50%;z-index: -1;}#sk-container-id-6 div.sk-parallel-item {display: flex;flex-direction: column;z-index: 1;position: relative;background-color: white;}#sk-container-id-6 div.sk-parallel-item:first-child::after {align-self: flex-end;width: 50%;}#sk-container-id-6 div.sk-parallel-item:last-child::after {align-self: flex-start;width: 50%;}#sk-container-id-6 div.sk-parallel-item:only-child::after {width: 0;}#sk-container-id-6 div.sk-dashed-wrapped {border: 1px dashed gray;margin: 0 0.4em 0.5em 0.4em;box-sizing: border-box;padding-bottom: 0.4em;background-color: white;}#sk-container-id-6 div.sk-label label {font-family: monospace;font-weight: bold;display: inline-block;line-height: 1.2em;}#sk-container-id-6 div.sk-label-container {text-align: center;}#sk-container-id-6 div.sk-container {/* jupyter's `normalize.less` sets `[hidden] { display: none; }` but bootstrap.min.css set `[hidden] { display: none !important; }` so we also need the `!important` here to be able to override the default hidden behavior on the sphinx rendered scikit-learn.org. See: https://github.com/scikit-learn/scikit-learn/issues/21755 */display: inline-block !important;position: relative;}#sk-container-id-6 div.sk-text-repr-fallback {display: none;}</style><div id=\"sk-container-id-6\" class=\"sk-top-container\"><div class=\"sk-text-repr-fallback\"><pre>GridSearchCV(cv=5, estimator=RandomForestRegressor(),\n",
       "             param_grid={&#x27;max_features&#x27;: array([16, 17, 18, 19, 20, 21, 22, 23, 24, 25, 26, 27, 28, 29, 30, 31, 32,\n",
       "       33, 34, 35, 36, 37, 38, 40], dtype=int32),\n",
       "                         &#x27;min_samples_leaf&#x27;: [5], &#x27;n_estimators&#x27;: [500],\n",
       "                         &#x27;random_state&#x27;: [88]},\n",
       "             scoring=&#x27;r2&#x27;, verbose=2)</pre><b>In a Jupyter environment, please rerun this cell to show the HTML representation or trust the notebook. <br />On GitHub, the HTML representation is unable to render, please try loading this page with nbviewer.org.</b></div><div class=\"sk-container\" hidden><div class=\"sk-item sk-dashed-wrapped\"><div class=\"sk-label-container\"><div class=\"sk-label sk-toggleable\"><input class=\"sk-toggleable__control sk-hidden--visually\" id=\"sk-estimator-id-8\" type=\"checkbox\" ><label for=\"sk-estimator-id-8\" class=\"sk-toggleable__label sk-toggleable__label-arrow\">GridSearchCV</label><div class=\"sk-toggleable__content\"><pre>GridSearchCV(cv=5, estimator=RandomForestRegressor(),\n",
       "             param_grid={&#x27;max_features&#x27;: array([16, 17, 18, 19, 20, 21, 22, 23, 24, 25, 26, 27, 28, 29, 30, 31, 32,\n",
       "       33, 34, 35, 36, 37, 38, 40], dtype=int32),\n",
       "                         &#x27;min_samples_leaf&#x27;: [5], &#x27;n_estimators&#x27;: [500],\n",
       "                         &#x27;random_state&#x27;: [88]},\n",
       "             scoring=&#x27;r2&#x27;, verbose=2)</pre></div></div></div><div class=\"sk-parallel\"><div class=\"sk-parallel-item\"><div class=\"sk-item\"><div class=\"sk-label-container\"><div class=\"sk-label sk-toggleable\"><input class=\"sk-toggleable__control sk-hidden--visually\" id=\"sk-estimator-id-9\" type=\"checkbox\" ><label for=\"sk-estimator-id-9\" class=\"sk-toggleable__label sk-toggleable__label-arrow\">estimator: RandomForestRegressor</label><div class=\"sk-toggleable__content\"><pre>RandomForestRegressor()</pre></div></div></div><div class=\"sk-serial\"><div class=\"sk-item\"><div class=\"sk-estimator sk-toggleable\"><input class=\"sk-toggleable__control sk-hidden--visually\" id=\"sk-estimator-id-10\" type=\"checkbox\" ><label for=\"sk-estimator-id-10\" class=\"sk-toggleable__label sk-toggleable__label-arrow\">RandomForestRegressor</label><div class=\"sk-toggleable__content\"><pre>RandomForestRegressor()</pre></div></div></div></div></div></div></div></div></div></div>"
      ],
      "text/plain": [
       "GridSearchCV(cv=5, estimator=RandomForestRegressor(),\n",
       "             param_grid={'max_features': array([16, 17, 18, 19, 20, 21, 22, 23, 24, 25, 26, 27, 28, 29, 30, 31, 32,\n",
       "       33, 34, 35, 36, 37, 38, 40], dtype=int32),\n",
       "                         'min_samples_leaf': [5], 'n_estimators': [500],\n",
       "                         'random_state': [88]},\n",
       "             scoring='r2', verbose=2)"
      ]
     },
     "execution_count": 66,
     "metadata": {},
     "output_type": "execute_result"
    }
   ],
   "source": [
    "import time\n",
    "from sklearn.model_selection import KFold\n",
    "grid_values = {'max_features': np.linspace(16,40,24, dtype='int32'),\n",
    "               'min_samples_leaf': [5],\n",
    "               'n_estimators': [500],\n",
    "               'random_state': [88]} \n",
    "\n",
    "tic = time.time()\n",
    "\n",
    "rf2 = RandomForestRegressor() \n",
    "# Note: here we set verbose=2 to keep track of the progress (the running time) of the cross validation. \n",
    "rf_cv = GridSearchCV(rf2, param_grid=grid_values, scoring='r2', cv=5,verbose=2)\n",
    "rf_cv.fit(X_train, y_train)\n"
   ]
  },
  {
   "cell_type": "code",
   "execution_count": 197,
   "metadata": {},
   "outputs": [
    {
     "data": {
      "image/png": "[encoded data removed]",
      "text/plain": [
       "<Figure size 576x432 with 1 Axes>"
      ]
     },
     "metadata": {},
     "output_type": "display_data"
    }
   ],
   "source": [
    "max_features = rf_cv.cv_results_['param_max_features'].data\n",
    "R2_scores = rf_cv.cv_results_['mean_test_score']\n",
    "\n",
    "plt.figure(figsize=(8, 6))\n",
    "plt.xlabel('max features', fontsize=16)\n",
    "plt.ylabel('CV R2', fontsize=16)\n",
    "plt.scatter(max_features, R2_scores, s=30)\n",
    "plt.plot(max_features, R2_scores, linewidth=3)\n",
    "plt.grid(True, which='both')\n",
    "# plt.xlim([1, 19])\n",
    "# plt.ylim([0.3, 0.6])\n",
    "plt.savefig('rf_cv.png',bbox_inches = 'tight',dpi=500)"
   ]
  },
  {
   "cell_type": "code",
   "execution_count": 68,
   "metadata": {},
   "outputs": [
    {
     "name": "stdout",
     "output_type": "stream",
     "text": [
      "{'max_features': 38, 'min_samples_leaf': 5, 'n_estimators': 500, 'random_state': 88}\n"
     ]
    }
   ],
   "source": [
    "print(rf_cv.best_params_)"
   ]
  },
  {
   "cell_type": "code",
   "execution_count": 246,
   "metadata": {},
   "outputs": [],
   "source": [
    "test_pred_rfcv = rf_cv.best_estimator_.predict(X_test)"
   ]
  },
  {
   "cell_type": "code",
   "execution_count": 234,
   "metadata": {},
   "outputs": [
    {
     "name": "stdout",
     "output_type": "stream",
     "text": [
      "Test RMSE:  376.1996837245073\n",
      "Test MAE:  154.5941688684095\n",
      "Test OSR2:  0.6944539731802031\n"
     ]
    }
   ],
   "source": [
    "test_rmse_rf_cv = np.sqrt(mean_squared_error(y_test, rf_cv.best_estimator_.predict(X_test)))\n",
    "print('Test RMSE: ', test_rmse_rf_cv)\n",
    "test_mae_rf_cv = mean_absolute_error(y_test, rf_cv.best_estimator_.predict(X_test))\n",
    "print('Test MAE: ', test_mae_rf_cv)\n",
    "test_or2_rf_cv = OSR2(rf_cv.best_estimator_, X_test, y_test, y_train)\n",
    "print('Test OSR2: ', test_or2_rf_cv)"
   ]
  },
  {
   "cell_type": "code",
   "execution_count": 70,
   "metadata": {},
   "outputs": [
    {
     "data": {
      "text/html": [
       "<div>\n",
       "<style scoped>\n",
       "    .dataframe tbody tr th:only-of-type {\n",
       "        vertical-align: middle;\n",
       "    }\n",
       "\n",
       "    .dataframe tbody tr th {\n",
       "        vertical-align: top;\n",
       "    }\n",
       "\n",
       "    .dataframe thead th {\n",
       "        text-align: right;\n",
       "    }\n",
       "</style>\n",
       "<table border=\"1\" class=\"dataframe\">\n",
       "  <thead>\n",
       "    <tr style=\"text-align: right;\">\n",
       "      <th></th>\n",
       "      <th>Feature</th>\n",
       "      <th>Importance score</th>\n",
       "    </tr>\n",
       "  </thead>\n",
       "  <tbody>\n",
       "    <tr>\n",
       "      <th>0</th>\n",
       "      <td>Income</td>\n",
       "      <td>2.0</td>\n",
       "    </tr>\n",
       "    <tr>\n",
       "      <th>1</th>\n",
       "      <td>Monthly Premium Auto</td>\n",
       "      <td>19.6</td>\n",
       "    </tr>\n",
       "    <tr>\n",
       "      <th>2</th>\n",
       "      <td>Months Since Last Claim</td>\n",
       "      <td>2.4</td>\n",
       "    </tr>\n",
       "    <tr>\n",
       "      <th>3</th>\n",
       "      <td>Months Since Policy Inception</td>\n",
       "      <td>2.2</td>\n",
       "    </tr>\n",
       "    <tr>\n",
       "      <th>4</th>\n",
       "      <td>Number of Open Complaints</td>\n",
       "      <td>0.2</td>\n",
       "    </tr>\n",
       "    <tr>\n",
       "      <th>...</th>\n",
       "      <td>...</td>\n",
       "      <td>...</td>\n",
       "    </tr>\n",
       "    <tr>\n",
       "      <th>62</th>\n",
       "      <td>Vehicle Class_Sports Car</td>\n",
       "      <td>0.3</td>\n",
       "    </tr>\n",
       "    <tr>\n",
       "      <th>63</th>\n",
       "      <td>Vehicle Class_Two-Door Car</td>\n",
       "      <td>0.4</td>\n",
       "    </tr>\n",
       "    <tr>\n",
       "      <th>64</th>\n",
       "      <td>Vehicle Size_Large</td>\n",
       "      <td>0.1</td>\n",
       "    </tr>\n",
       "    <tr>\n",
       "      <th>65</th>\n",
       "      <td>Vehicle Size_Medsize</td>\n",
       "      <td>0.2</td>\n",
       "    </tr>\n",
       "    <tr>\n",
       "      <th>66</th>\n",
       "      <td>Vehicle Size_Small</td>\n",
       "      <td>0.2</td>\n",
       "    </tr>\n",
       "  </tbody>\n",
       "</table>\n",
       "<p>67 rows × 2 columns</p>\n",
       "</div>"
      ],
      "text/plain": [
       "                          Feature  Importance score\n",
       "0                          Income               2.0\n",
       "1            Monthly Premium Auto              19.6\n",
       "2         Months Since Last Claim               2.4\n",
       "3   Months Since Policy Inception               2.2\n",
       "4       Number of Open Complaints               0.2\n",
       "..                            ...               ...\n",
       "62       Vehicle Class_Sports Car               0.3\n",
       "63     Vehicle Class_Two-Door Car               0.4\n",
       "64             Vehicle Size_Large               0.1\n",
       "65           Vehicle Size_Medsize               0.2\n",
       "66             Vehicle Size_Small               0.2\n",
       "\n",
       "[67 rows x 2 columns]"
      ]
     },
     "execution_count": 70,
     "metadata": {},
     "output_type": "execute_result"
    }
   ],
   "source": [
    "pd.DataFrame({'Feature' : X_train.columns,  \n",
    "              'Importance score': 100*rf_cv.best_estimator_.feature_importances_}).round(1)\n"
   ]
  },
  {
   "cell_type": "code",
   "execution_count": 221,
   "metadata": {},
   "outputs": [],
   "source": [
    "importance = rf_cv.best_estimator_.feature_importances_\n",
    "indices = np.argsort(importance)[::-1]"
   ]
  },
  {
   "cell_type": "code",
   "execution_count": 222,
   "metadata": {},
   "outputs": [
    {
     "data": {
      "text/plain": [
       "Index(['Number of Policies', 'Monthly Premium Auto', 'Total Claim Amount',\n",
       "       'Months Since Last Claim', 'Months Since Policy Inception', 'Income',\n",
       "       'Vehicle Class_Luxury Car', 'Vehicle Class_SUV',\n",
       "       'Vehicle Class_Luxury SUV', 'Vehicle Class_Four-Door Car'],\n",
       "      dtype='object')"
      ]
     },
     "execution_count": 222,
     "metadata": {},
     "output_type": "execute_result"
    }
   ],
   "source": [
    "X_train.columns[indices][:10]"
   ]
  },
  {
   "cell_type": "code",
   "execution_count": 223,
   "metadata": {},
   "outputs": [
    {
     "data": {
      "image/png": "[encoded data removed]",
      "text/plain": [
       "<Figure size 432x288 with 1 Axes>"
      ]
     },
     "metadata": {},
     "output_type": "display_data"
    }
   ],
   "source": [
    "import seaborn as sns\n",
    "sns.set(style=\"whitegrid\")\n",
    "sns.barplot(x=100*importance[indices][:10], y=X_train.columns[indices][:10], palette=\"Blues_d\")\n",
    "plt.savefig('rf_cv_im.png',bbox_inches = 'tight',dpi=500)"
   ]
  },
  {
   "attachments": {},
   "cell_type": "markdown",
   "metadata": {},
   "source": [
    "4. Blending Model"
   ]
  },
  {
   "cell_type": "code",
   "execution_count": 241,
   "metadata": {},
   "outputs": [],
   "source": [
    "val_pred_lr = lm.predict(val.drop(['Claim Amount'], axis=1))"
   ]
  },
  {
   "cell_type": "code",
   "execution_count": 242,
   "metadata": {},
   "outputs": [],
   "source": [
    "val_pred_cart = dtr_cv_acc.best_estimator_.predict(val.drop(['Claim Amount'], axis=1))"
   ]
  },
  {
   "cell_type": "code",
   "execution_count": 243,
   "metadata": {},
   "outputs": [],
   "source": [
    "val_pred_rf = rf_cv.best_estimator_.predict(val.drop(['Claim Amount'], axis=1))"
   ]
  },
  {
   "cell_type": "code",
   "execution_count": 244,
   "metadata": {},
   "outputs": [],
   "source": [
    "blend_val_df = pd.DataFrame({'Claim Amount': val['Claim Amount'],'Linear Regression': val_pred_lr, 'CART': val_pred_cart, 'Random Forest': val_pred_rf})"
   ]
  },
  {
   "cell_type": "code",
   "execution_count": 245,
   "metadata": {},
   "outputs": [
    {
     "data": {
      "text/html": [
       "<div>\n",
       "<style scoped>\n",
       "    .dataframe tbody tr th:only-of-type {\n",
       "        vertical-align: middle;\n",
       "    }\n",
       "\n",
       "    .dataframe tbody tr th {\n",
       "        vertical-align: top;\n",
       "    }\n",
       "\n",
       "    .dataframe thead th {\n",
       "        text-align: right;\n",
       "    }\n",
       "</style>\n",
       "<table border=\"1\" class=\"dataframe\">\n",
       "  <thead>\n",
       "    <tr style=\"text-align: right;\">\n",
       "      <th></th>\n",
       "      <th>Claim Amount</th>\n",
       "      <th>Linear Regression</th>\n",
       "      <th>CART</th>\n",
       "      <th>Random Forest</th>\n",
       "    </tr>\n",
       "  </thead>\n",
       "  <tbody>\n",
       "    <tr>\n",
       "      <th>274</th>\n",
       "      <td>802.106710</td>\n",
       "      <td>712.162414</td>\n",
       "      <td>1411.223628</td>\n",
       "      <td>1178.266080</td>\n",
       "    </tr>\n",
       "    <tr>\n",
       "      <th>1900</th>\n",
       "      <td>1030.765258</td>\n",
       "      <td>1079.365479</td>\n",
       "      <td>1024.205889</td>\n",
       "      <td>1019.146099</td>\n",
       "    </tr>\n",
       "    <tr>\n",
       "      <th>3933</th>\n",
       "      <td>2265.853652</td>\n",
       "      <td>594.550973</td>\n",
       "      <td>2191.759695</td>\n",
       "      <td>1659.975764</td>\n",
       "    </tr>\n",
       "    <tr>\n",
       "      <th>4053</th>\n",
       "      <td>555.830451</td>\n",
       "      <td>710.311813</td>\n",
       "      <td>564.869986</td>\n",
       "      <td>557.020606</td>\n",
       "    </tr>\n",
       "    <tr>\n",
       "      <th>7128</th>\n",
       "      <td>282.743885</td>\n",
       "      <td>506.110394</td>\n",
       "      <td>292.531610</td>\n",
       "      <td>274.692138</td>\n",
       "    </tr>\n",
       "    <tr>\n",
       "      <th>...</th>\n",
       "      <td>...</td>\n",
       "      <td>...</td>\n",
       "      <td>...</td>\n",
       "      <td>...</td>\n",
       "    </tr>\n",
       "    <tr>\n",
       "      <th>6375</th>\n",
       "      <td>555.628228</td>\n",
       "      <td>687.254752</td>\n",
       "      <td>550.092521</td>\n",
       "      <td>547.006236</td>\n",
       "    </tr>\n",
       "    <tr>\n",
       "      <th>7935</th>\n",
       "      <td>1597.891049</td>\n",
       "      <td>1179.043190</td>\n",
       "      <td>2573.698235</td>\n",
       "      <td>2189.289891</td>\n",
       "    </tr>\n",
       "    <tr>\n",
       "      <th>7772</th>\n",
       "      <td>2367.502939</td>\n",
       "      <td>1614.509964</td>\n",
       "      <td>3769.552454</td>\n",
       "      <td>3524.460657</td>\n",
       "    </tr>\n",
       "    <tr>\n",
       "      <th>1040</th>\n",
       "      <td>433.987105</td>\n",
       "      <td>882.800475</td>\n",
       "      <td>434.796943</td>\n",
       "      <td>429.569829</td>\n",
       "    </tr>\n",
       "    <tr>\n",
       "      <th>8981</th>\n",
       "      <td>403.492646</td>\n",
       "      <td>1009.929980</td>\n",
       "      <td>380.598362</td>\n",
       "      <td>399.863698</td>\n",
       "    </tr>\n",
       "  </tbody>\n",
       "</table>\n",
       "<p>1827 rows × 4 columns</p>\n",
       "</div>"
      ],
      "text/plain": [
       "      Claim Amount  Linear Regression         CART  Random Forest\n",
       "274     802.106710         712.162414  1411.223628    1178.266080\n",
       "1900   1030.765258        1079.365479  1024.205889    1019.146099\n",
       "3933   2265.853652         594.550973  2191.759695    1659.975764\n",
       "4053    555.830451         710.311813   564.869986     557.020606\n",
       "7128    282.743885         506.110394   292.531610     274.692138\n",
       "...            ...                ...          ...            ...\n",
       "6375    555.628228         687.254752   550.092521     547.006236\n",
       "7935   1597.891049        1179.043190  2573.698235    2189.289891\n",
       "7772   2367.502939        1614.509964  3769.552454    3524.460657\n",
       "1040    433.987105         882.800475   434.796943     429.569829\n",
       "8981    403.492646        1009.929980   380.598362     399.863698\n",
       "\n",
       "[1827 rows x 4 columns]"
      ]
     },
     "execution_count": 245,
     "metadata": {},
     "output_type": "execute_result"
    }
   ],
   "source": [
    "blend_val_df"
   ]
  },
  {
   "cell_type": "code",
   "execution_count": 228,
   "metadata": {},
   "outputs": [],
   "source": [
    "blending_ols = smf.ols(formula='Q(\"Claim Amount\") ~ Q(\"Linear Regression\") + CART + Q(\"Random Forest\") - 1', data=blend_val_df).fit()"
   ]
  },
  {
   "cell_type": "code",
   "execution_count": 229,
   "metadata": {},
   "outputs": [
    {
     "data": {
      "text/html": [
       "<table class=\"simpletable\">\n",
       "<caption>OLS Regression Results</caption>\n",
       "<tr>\n",
       "  <th>Dep. Variable:</th>    <td>Q(\"Claim Amount\")</td> <th>  R-squared (uncentered):</th>      <td>   0.864</td> \n",
       "</tr>\n",
       "<tr>\n",
       "  <th>Model:</th>                   <td>OLS</td>        <th>  Adj. R-squared (uncentered):</th> <td>   0.864</td> \n",
       "</tr>\n",
       "<tr>\n",
       "  <th>Method:</th>             <td>Least Squares</td>   <th>  F-statistic:       </th>          <td>   3875.</td> \n",
       "</tr>\n",
       "<tr>\n",
       "  <th>Date:</th>             <td>Tue, 02 May 2023</td>  <th>  Prob (F-statistic):</th>           <td>  0.00</td>  \n",
       "</tr>\n",
       "<tr>\n",
       "  <th>Time:</th>                 <td>16:23:28</td>      <th>  Log-Likelihood:    </th>          <td> -13577.</td> \n",
       "</tr>\n",
       "<tr>\n",
       "  <th>No. Observations:</th>      <td>  1827</td>       <th>  AIC:               </th>          <td>2.716e+04</td>\n",
       "</tr>\n",
       "<tr>\n",
       "  <th>Df Residuals:</th>          <td>  1824</td>       <th>  BIC:               </th>          <td>2.718e+04</td>\n",
       "</tr>\n",
       "<tr>\n",
       "  <th>Df Model:</th>              <td>     3</td>       <th>                     </th>              <td> </td>    \n",
       "</tr>\n",
       "<tr>\n",
       "  <th>Covariance Type:</th>      <td>nonrobust</td>     <th>                     </th>              <td> </td>    \n",
       "</tr>\n",
       "</table>\n",
       "<table class=\"simpletable\">\n",
       "<tr>\n",
       "             <td></td>               <th>coef</th>     <th>std err</th>      <th>t</th>      <th>P>|t|</th>  <th>[0.025</th>    <th>0.975]</th>  \n",
       "</tr>\n",
       "<tr>\n",
       "  <th>Q(\"Linear Regression\")</th> <td>   -0.0005</td> <td>    0.023</td> <td>   -0.022</td> <td> 0.983</td> <td>   -0.046</td> <td>    0.045</td>\n",
       "</tr>\n",
       "<tr>\n",
       "  <th>CART</th>                   <td>    0.1210</td> <td>    0.043</td> <td>    2.805</td> <td> 0.005</td> <td>    0.036</td> <td>    0.206</td>\n",
       "</tr>\n",
       "<tr>\n",
       "  <th>Q(\"Random Forest\")</th>     <td>    0.8861</td> <td>    0.048</td> <td>   18.500</td> <td> 0.000</td> <td>    0.792</td> <td>    0.980</td>\n",
       "</tr>\n",
       "</table>\n",
       "<table class=\"simpletable\">\n",
       "<tr>\n",
       "  <th>Omnibus:</th>       <td>1407.034</td> <th>  Durbin-Watson:     </th> <td>   2.014</td> \n",
       "</tr>\n",
       "<tr>\n",
       "  <th>Prob(Omnibus):</th>  <td> 0.000</td>  <th>  Jarque-Bera (JB):  </th> <td>44819.521</td>\n",
       "</tr>\n",
       "<tr>\n",
       "  <th>Skew:</th>           <td> 3.315</td>  <th>  Prob(JB):          </th> <td>    0.00</td> \n",
       "</tr>\n",
       "<tr>\n",
       "  <th>Kurtosis:</th>       <td>26.341</td>  <th>  Cond. No.          </th> <td>    10.9</td> \n",
       "</tr>\n",
       "</table><br/><br/>Notes:<br/>[1] R² is computed without centering (uncentered) since the model does not contain a constant.<br/>[2] Standard Errors assume that the covariance matrix of the errors is correctly specified."
      ],
      "text/plain": [
       "<class 'statsmodels.iolib.summary.Summary'>\n",
       "\"\"\"\n",
       "                                 OLS Regression Results                                \n",
       "=======================================================================================\n",
       "Dep. Variable:      Q(\"Claim Amount\")   R-squared (uncentered):                   0.864\n",
       "Model:                            OLS   Adj. R-squared (uncentered):              0.864\n",
       "Method:                 Least Squares   F-statistic:                              3875.\n",
       "Date:                Tue, 02 May 2023   Prob (F-statistic):                        0.00\n",
       "Time:                        16:23:28   Log-Likelihood:                         -13577.\n",
       "No. Observations:                1827   AIC:                                  2.716e+04\n",
       "Df Residuals:                    1824   BIC:                                  2.718e+04\n",
       "Df Model:                           3                                                  \n",
       "Covariance Type:            nonrobust                                                  \n",
       "==========================================================================================\n",
       "                             coef    std err          t      P>|t|      [0.025      0.975]\n",
       "------------------------------------------------------------------------------------------\n",
       "Q(\"Linear Regression\")    -0.0005      0.023     -0.022      0.983      -0.046       0.045\n",
       "CART                       0.1210      0.043      2.805      0.005       0.036       0.206\n",
       "Q(\"Random Forest\")         0.8861      0.048     18.500      0.000       0.792       0.980\n",
       "==============================================================================\n",
       "Omnibus:                     1407.034   Durbin-Watson:                   2.014\n",
       "Prob(Omnibus):                  0.000   Jarque-Bera (JB):            44819.521\n",
       "Skew:                           3.315   Prob(JB):                         0.00\n",
       "Kurtosis:                      26.341   Cond. No.                         10.9\n",
       "==============================================================================\n",
       "\n",
       "Notes:\n",
       "[1] R² is computed without centering (uncentered) since the model does not contain a constant.\n",
       "[2] Standard Errors assume that the covariance matrix of the errors is correctly specified.\n",
       "\"\"\""
      ]
     },
     "execution_count": 229,
     "metadata": {},
     "output_type": "execute_result"
    }
   ],
   "source": [
    "blending_ols.summary()"
   ]
  },
  {
   "cell_type": "code",
   "execution_count": 256,
   "metadata": {},
   "outputs": [],
   "source": [
    "blend_test_df = pd.DataFrame({'Claim Amount': test['Claim Amount'],'Linear Regression': test_pred_lm, 'CART': test_pred_cartcv, 'Random Forest': test_pred_rfcv})"
   ]
  },
  {
   "cell_type": "code",
   "execution_count": 257,
   "metadata": {},
   "outputs": [
    {
     "name": "stdout",
     "output_type": "stream",
     "text": [
      "Test RMSE:  377.8913537440856\n",
      "Test MAE:  155.94189251247656\n",
      "Test OSR2:  0.6916998762552968\n"
     ]
    }
   ],
   "source": [
    "test_rmse_blending = np.sqrt(mean_squared_error(test['Claim Amount'], blending_ols.predict(blend_test_df)))\n",
    "print('Test RMSE: ', test_rmse_blending)\n",
    "test_mae_blending = mean_absolute_error(test['Claim Amount'], blending_ols.predict(blend_test_df))\n",
    "print('Test MAE: ', test_mae_blending)\n",
    "test_or2_blending = OSR2(blending_ols, blend_test_df, y_test, y_train)\n",
    "print('Test OSR2: ', test_or2_blending)"
   ]
  },
  {
   "cell_type": "code",
   "execution_count": 258,
   "metadata": {},
   "outputs": [],
   "source": [
    "model_list = ['Baseline','Linear Regression','CART','CART with CV','Random Forest','Random Forest with CV','Blending']"
   ]
  },
  {
   "cell_type": "code",
   "execution_count": 259,
   "metadata": {},
   "outputs": [],
   "source": [
    "metrics_df = pd.DataFrame({'Model': model_list, 'RMSE': [test_rmse, test_rmse_lm, test_rmse_cart, test_rmse_cartcv, test_rmse_rf, test_rmse_rf_cv, test_rmse_blending], 'MAE': [test_mae,test_mae_lm, test_mae_cart, test_mae_cartcv, test_mae_rf, test_mae_rf_cv, test_mae_blending], 'OSR2': [test_r2, test_or2_lm, test_or2_cart, test_or2_cartcv, test_or2_rf, test_or2_rf_cv, test_or2_blending]})"
   ]
  },
  {
   "cell_type": "code",
   "execution_count": 260,
   "metadata": {},
   "outputs": [],
   "source": [
    "metrics_df['RMSE'] = metrics_df['RMSE'].round(3)\n",
    "metrics_df['MAE'] = metrics_df['MAE'].round(3)\n",
    "metrics_df['OSR2'] = metrics_df['OSR2'].round(3)"
   ]
  },
  {
   "cell_type": "code",
   "execution_count": 261,
   "metadata": {},
   "outputs": [
    {
     "data": {
      "text/html": [
       "<div>\n",
       "<style scoped>\n",
       "    .dataframe tbody tr th:only-of-type {\n",
       "        vertical-align: middle;\n",
       "    }\n",
       "\n",
       "    .dataframe tbody tr th {\n",
       "        vertical-align: top;\n",
       "    }\n",
       "\n",
       "    .dataframe thead th {\n",
       "        text-align: right;\n",
       "    }\n",
       "</style>\n",
       "<table border=\"1\" class=\"dataframe\">\n",
       "  <thead>\n",
       "    <tr style=\"text-align: right;\">\n",
       "      <th></th>\n",
       "      <th>Model</th>\n",
       "      <th>RMSE</th>\n",
       "      <th>MAE</th>\n",
       "      <th>OSR2</th>\n",
       "    </tr>\n",
       "  </thead>\n",
       "  <tbody>\n",
       "    <tr>\n",
       "      <th>0</th>\n",
       "      <td>Baseline</td>\n",
       "      <td>376.200</td>\n",
       "      <td>154.594</td>\n",
       "      <td>-0.000</td>\n",
       "    </tr>\n",
       "    <tr>\n",
       "      <th>1</th>\n",
       "      <td>Linear Regression</td>\n",
       "      <td>633.379</td>\n",
       "      <td>390.661</td>\n",
       "      <td>0.134</td>\n",
       "    </tr>\n",
       "    <tr>\n",
       "      <th>2</th>\n",
       "      <td>CART</td>\n",
       "      <td>445.718</td>\n",
       "      <td>169.601</td>\n",
       "      <td>0.571</td>\n",
       "    </tr>\n",
       "    <tr>\n",
       "      <th>3</th>\n",
       "      <td>CART with CV</td>\n",
       "      <td>441.008</td>\n",
       "      <td>167.827</td>\n",
       "      <td>0.580</td>\n",
       "    </tr>\n",
       "    <tr>\n",
       "      <th>4</th>\n",
       "      <td>Random Forest</td>\n",
       "      <td>500.077</td>\n",
       "      <td>266.834</td>\n",
       "      <td>0.460</td>\n",
       "    </tr>\n",
       "    <tr>\n",
       "      <th>5</th>\n",
       "      <td>Random Forest with CV</td>\n",
       "      <td>376.200</td>\n",
       "      <td>154.594</td>\n",
       "      <td>0.694</td>\n",
       "    </tr>\n",
       "    <tr>\n",
       "      <th>6</th>\n",
       "      <td>Blending</td>\n",
       "      <td>377.891</td>\n",
       "      <td>155.942</td>\n",
       "      <td>0.692</td>\n",
       "    </tr>\n",
       "  </tbody>\n",
       "</table>\n",
       "</div>"
      ],
      "text/plain": [
       "                   Model     RMSE      MAE   OSR2\n",
       "0               Baseline  376.200  154.594 -0.000\n",
       "1      Linear Regression  633.379  390.661  0.134\n",
       "2                   CART  445.718  169.601  0.571\n",
       "3           CART with CV  441.008  167.827  0.580\n",
       "4          Random Forest  500.077  266.834  0.460\n",
       "5  Random Forest with CV  376.200  154.594  0.694\n",
       "6               Blending  377.891  155.942  0.692"
      ]
     },
     "execution_count": 261,
     "metadata": {},
     "output_type": "execute_result"
    }
   ],
   "source": [
    "metrics_df"
   ]
  },
  {
   "attachments": {},
   "cell_type": "markdown",
   "metadata": {},
   "source": [
    "Analysis of Blending results"
   ]
  },
  {
   "attachments": {},
   "cell_type": "markdown",
   "metadata": {},
   "source": [
    "Boostrap Analysis"
   ]
  },
  {
   "cell_type": "code",
   "execution_count": 143,
   "metadata": {},
   "outputs": [],
   "source": [
    "import time\n",
    "\n",
    "def bootstrap_validation(test_data, test_label, train_label, model, metrics_list, sample=500, random_state=66):\n",
    "    tic = time.time()\n",
    "    n_sample = sample\n",
    "    n_metrics = len(metrics_list)\n",
    "    output_array=np.zeros([n_sample, n_metrics])\n",
    "    output_array[:]=np.nan\n",
    "    print(output_array.shape)\n",
    "    for bs_iter in range(n_sample):\n",
    "        bs_index = np.random.choice(test_data.index, len(test_data.index), replace=True)\n",
    "        bs_data = test_data.loc[bs_index]\n",
    "        bs_label = test_label.loc[bs_index]\n",
    "        bs_predicted = model.predict(bs_data)\n",
    "        for metrics_iter in range(n_metrics):\n",
    "            metrics = metrics_list[metrics_iter]\n",
    "            output_array[bs_iter, metrics_iter]=metrics(bs_predicted,bs_label,train_label)\n",
    "#         if bs_iter % 100 == 0:\n",
    "#             print(bs_iter, time.time()-tic)\n",
    "    output_df = pd.DataFrame(output_array)\n",
    "    return output_df"
   ]
  },
  {
   "cell_type": "code",
   "execution_count": 144,
   "metadata": {},
   "outputs": [],
   "source": [
    "y_train = pd.Series(y_train)\n",
    "y_test = pd.Series(y_test)"
   ]
  },
  {
   "cell_type": "code",
   "execution_count": 215,
   "metadata": {},
   "outputs": [],
   "source": [
    "def RMSE(y_pred, y_true, y_train):\n",
    "    return np.sqrt(mean_squared_error(y_true, y_pred))\n",
    "def MAE(y_pred, y_true, y_train):\n",
    "    return mean_absolute_error(y_true, y_pred)\n",
    "def OSR2(y_pred, y_true, y_train):\n",
    "    return 1 - (np.sum((y_true-y_pred)**2)/np.sum((y_true-y_train.mean())**2))"
   ]
  },
  {
   "cell_type": "code",
   "execution_count": 148,
   "metadata": {},
   "outputs": [
    {
     "name": "stdout",
     "output_type": "stream",
     "text": [
      "(10, 3)\n"
     ]
    }
   ],
   "source": [
    "bs_output = bootstrap_validation(X_test,y_test,y_train,rf_cv.best_estimator_,\n",
    "                                 metrics_list=[RMSE, MAE, OSR2],\n",
    "                                 sample = 10)"
   ]
  },
  {
   "cell_type": "code",
   "execution_count": 149,
   "metadata": {},
   "outputs": [
    {
     "name": "stdout",
     "output_type": "stream",
     "text": [
      "(1000, 3)\n"
     ]
    }
   ],
   "source": [
    "bs_output = bootstrap_validation(X_test,y_test,y_train,rf_cv.best_estimator_,\n",
    "                                 metrics_list=[RMSE, MAE, OSR2],\n",
    "                                 sample = 1000)"
   ]
  },
  {
   "cell_type": "code",
   "execution_count": 208,
   "metadata": {},
   "outputs": [
    {
     "data": {
      "image/png": "[encoded data removed]",
      "text/plain": [
       "<Figure size 864x360 with 2 Axes>"
      ]
     },
     "metadata": {},
     "output_type": "display_data"
    }
   ],
   "source": [
    "## Visualize the bootstrap validation accuracy results\n",
    "test_mae = MAE(rf_cv.best_estimator_.predict(X_test),y_test,y_train)\n",
    "\n",
    "fig, axs = plt.subplots(ncols=2, figsize=(12,5))\n",
    "axs[0].set_xlabel('Bootstrap MAE Estimate', fontsize=16)\n",
    "axs[1].set_xlabel('Boot MAE - Test Set MAE', fontsize=16)\n",
    "axs[0].set_ylabel('Count', fontsize=16)\n",
    "axs[0].hist(bs_output.iloc[:,1], bins=20,edgecolor='blue', linewidth=2,color = \"orange\")\n",
    "# axs[0].set_xlim([0.4,0.7])\n",
    "axs[1].hist(bs_output.iloc[:,1]-test_mae, bins=20,edgecolor='green', linewidth=2,color = \"grey\")\n",
    "# axs[1].set_xlim([-0.15,0.15])\n",
    "plt.savefig('bs_mae.png',bbox_inches = 'tight',dpi=500)"
   ]
  },
  {
   "cell_type": "code",
   "execution_count": 226,
   "metadata": {},
   "outputs": [
    {
     "name": "stdout",
     "output_type": "stream",
     "text": [
      "The 95-percent confidence interval of Test MAE is [-14.00661157  16.211757  ]\n"
     ]
    }
   ],
   "source": [
    "# The 95% confidence interval\n",
    "CI= np.quantile(bs_output.iloc[:,1]-test_mae,np.array([0.025,0.975]))\n",
    "print(\"The 95-percent confidence interval of Test MAE is %s\" % CI)"
   ]
  },
  {
   "cell_type": "code",
   "execution_count": 227,
   "metadata": {},
   "outputs": [
    {
     "data": {
      "image/png": "[encoded data removed]",
      "text/plain": [
       "<Figure size 576x432 with 1 Axes>"
      ]
     },
     "metadata": {},
     "output_type": "display_data"
    }
   ],
   "source": [
    "fig, axs = plt.subplots(ncols=1, figsize=(8,6))\n",
    "axs.set_xlabel('Boot MAE - Test Set MAE', fontsize=16)\n",
    "axs.set_ylabel('Count', fontsize=16)\n",
    "axs.hist(bs_output.iloc[:,1]-test_mae, bins=20,edgecolor='green', linewidth=2,color = \"grey\")\n",
    "# axs.set_xlim([-0.15,0.15])\n",
    "axs.vlines(x=CI[0], ymin=0, ymax=150,color = \"black\")\n",
    "axs.vlines(x=CI[1], ymin=0, ymax=150,color = \"black\")\n",
    "plt.savefig('bs_mae_ci.png',bbox_inches = 'tight',dpi=500)"
   ]
  },
  {
   "cell_type": "code",
   "execution_count": 210,
   "metadata": {},
   "outputs": [
    {
     "data": {
      "image/png": "[encoded data removed]",
      "text/plain": [
       "<Figure size 864x360 with 2 Axes>"
      ]
     },
     "metadata": {},
     "output_type": "display_data"
    }
   ],
   "source": [
    "## Visualize the bootstrap validation TPR results\n",
    "test_rmse = RMSE(rf_cv.best_estimator_.predict(X_test),y_test,y_train)\n",
    "\n",
    "fig, axs = plt.subplots(ncols=2, figsize=(12,5))\n",
    "axs[0].set_xlabel('Bootstrap RMSE Estimate', fontsize=16)\n",
    "axs[1].set_xlabel('Boot RMSE - Test Set RMSE', fontsize=16)\n",
    "axs[0].set_ylabel('Count', fontsize=16)\n",
    "axs[0].hist(bs_output.iloc[:,0], bins=20,edgecolor='blue', linewidth=2,color = \"orange\")\n",
    "# axs[0].set_xlim([0.4,0.7])\n",
    "axs[1].hist(bs_output.iloc[:,0]-test_rmse, bins=20,edgecolor='green', linewidth=2,color = \"grey\")\n",
    "# axs[1].set_xlim([-0.15,0.15])\n",
    "plt.savefig('bs_rmse.png',bbox_inches = 'tight',dpi=500)"
   ]
  },
  {
   "cell_type": "code",
   "execution_count": 212,
   "metadata": {},
   "outputs": [
    {
     "name": "stdout",
     "output_type": "stream",
     "text": [
      "The 95-percent confidence interval of Test Accuracy is [-36.35382893  39.25664129]\n"
     ]
    }
   ],
   "source": [
    "# The 95% confidence interval\n",
    "CI= np.quantile(bs_output.iloc[:,0]-test_rmse,np.array([0.025,0.975]))\n",
    "print(\"The 95-percent confidence interval of Test Accuracy is %s\" % CI)"
   ]
  },
  {
   "cell_type": "code",
   "execution_count": 213,
   "metadata": {},
   "outputs": [
    {
     "data": {
      "image/png": "[encoded data removed]",
      "text/plain": [
       "<Figure size 576x432 with 1 Axes>"
      ]
     },
     "metadata": {},
     "output_type": "display_data"
    }
   ],
   "source": [
    "fig, axs = plt.subplots(ncols=1, figsize=(8,6))\n",
    "axs.set_xlabel('Boot RMSE - Test Set RMSE', fontsize=16)\n",
    "axs.set_ylabel('Count', fontsize=16)\n",
    "axs.hist(bs_output.iloc[:,0]-test_rmse, bins=20,edgecolor='green', linewidth=2,color = \"grey\")\n",
    "# axs.set_xlim([-0.15,0.15])\n",
    "axs.vlines(x=CI[0], ymin=0, ymax=150,color = \"black\")\n",
    "axs.vlines(x=CI[1], ymin=0, ymax=150,color = \"black\")\n",
    "plt.savefig('bs_rmse_ci.png',bbox_inches = 'tight',dpi=500)"
   ]
  },
  {
   "cell_type": "code",
   "execution_count": 216,
   "metadata": {},
   "outputs": [
    {
     "data": {
      "image/png": "[encoded data removed]",
      "text/plain": [
       "<Figure size 864x360 with 2 Axes>"
      ]
     },
     "metadata": {},
     "output_type": "display_data"
    }
   ],
   "source": [
    "## Visualize the bootstrap validation TPR results\n",
    "test_osr2 = OSR2(rf_cv.best_estimator_.predict(X_test),y_test,y_train)\n",
    "\n",
    "fig, axs = plt.subplots(ncols=2, figsize=(12,5))\n",
    "axs[0].set_xlabel('Bootstrap OSR2 Estimate', fontsize=16)\n",
    "axs[1].set_xlabel('Boot OSR2 - Test Set OSR2', fontsize=16)\n",
    "axs[0].set_ylabel('Count', fontsize=16)\n",
    "axs[0].hist(bs_output.iloc[:,2], bins=20,edgecolor='blue', linewidth=2,color = \"orange\")\n",
    "# axs[0].set_xlim([0.4,0.7])\n",
    "axs[1].hist(bs_output.iloc[:,2]-test_osr2, bins=20,edgecolor='green', linewidth=2,color = \"grey\")\n",
    "# axs[1].set_xlim([-0.15,0.15])\n",
    "plt.savefig('bs_osr2.png',bbox_inches = 'tight',dpi=500)"
   ]
  },
  {
   "cell_type": "code",
   "execution_count": 217,
   "metadata": {},
   "outputs": [
    {
     "name": "stdout",
     "output_type": "stream",
     "text": [
      "The 95-percent confidence interval of Test Accuracy is [-0.02931326  0.02689122]\n"
     ]
    }
   ],
   "source": [
    "# The 95% confidence interval\n",
    "CI= np.quantile(bs_output.iloc[:,2]-test_osr2,np.array([0.025,0.975]))\n",
    "print(\"The 95-percent confidence interval of Test Accuracy is %s\" % CI)"
   ]
  },
  {
   "cell_type": "code",
   "execution_count": 218,
   "metadata": {},
   "outputs": [
    {
     "data": {
      "image/png": "[encoded data removed]",
      "text/plain": [
       "<Figure size 576x432 with 1 Axes>"
      ]
     },
     "metadata": {},
     "output_type": "display_data"
    }
   ],
   "source": [
    "fig, axs = plt.subplots(ncols=1, figsize=(8,6))\n",
    "axs.set_xlabel('Boot OSR2 - Test Set OSR2', fontsize=16)\n",
    "axs.set_ylabel('Count', fontsize=16)\n",
    "axs.hist(bs_output.iloc[:,2]-test_osr2, bins=20,edgecolor='green', linewidth=2,color = \"orange\")\n",
    "# axs.set_xlim([-0.15,0.15])\n",
    "axs.vlines(x=CI[0], ymin=0, ymax=150,color = \"red\")\n",
    "axs.vlines(x=CI[1], ymin=0, ymax=150,color = \"red\")\n",
    "plt.savefig('bs_osr2_ci.png',bbox_inches = 'tight',dpi=500)"
   ]
  },
  {
   "cell_type": "code",
   "execution_count": null,
   "metadata": {},
   "outputs": [],
   "source": []
  }
 ],
 "metadata": {
  "kernelspec": {
   "display_name": "base",
   "language": "python",
   "name": "python3"
  },
  "language_info": {
   "codemirror_mode": {
    "name": "ipython",
    "version": 3
   },
   "file_extension": ".py",
   "mimetype": "text/x-python",
   "name": "python",
   "nbconvert_exporter": "python",
   "pygments_lexer": "ipython3",
   "version": "3.9.7"
  },
  "orig_nbformat": 4
 },
 "nbformat": 4,
 "nbformat_minor": 2
}
